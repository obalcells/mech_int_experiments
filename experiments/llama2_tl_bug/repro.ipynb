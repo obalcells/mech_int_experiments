{
 "cells": [
  {
   "cell_type": "code",
   "execution_count": 1,
   "metadata": {},
   "outputs": [],
   "source": [
    "import os\n",
    "os.environ[\"CUDA_VISIBLE_DEVICES\"] = \"4,5\"\n",
    "import gc\n",
    "import torch\n",
    "import torch.nn as nn\n",
    "from transformer_lens import HookedTransformer\n",
    "from transformer_lens import utils as tl_utils\n",
    "from transformers import AutoModelForCausalLM, AutoTokenizer\n",
    "import einops\n",
    "from jaxtyping import Int, Float\n",
    "from torch import Tensor\n",
    "from matplotlib import pyplot as plt\n",
    "import numpy as np\n",
    "import functools\n",
    "from typing import Dict, Optional, Tuple, Union\n",
    "from jaxtyping import Float, Int\n",
    "from transformer_lens.HookedTransformerConfig import HookedTransformerConfig\n",
    "from transformer_lens.hook_points import HookedRootModule, HookPoint\n",
    "from copy import deepcopy"
   ]
  },
  {
   "cell_type": "code",
   "execution_count": 2,
   "metadata": {},
   "outputs": [
    {
     "ename": "KeyError",
     "evalue": "'allocated_bytes.all.current'",
     "output_type": "error",
     "traceback": [
      "\u001b[0;31m---------------------------------------------------------------------------\u001b[0m",
      "\u001b[0;31mKeyError\u001b[0m                                  Traceback (most recent call last)",
      "\u001b[1;32m/home/obalcells/a23-jailbreaks-obalcells/experiments/llama2_tl_bug/repro.ipynb Cell 2\u001b[0m line \u001b[0;36m5\n\u001b[1;32m      <a href='vscode-notebook-cell://ssh-remote%2Bprivsec0.inf.ethz.ch/home/obalcells/a23-jailbreaks-obalcells/experiments/llama2_tl_bug/repro.ipynb#W1sdnNjb2RlLXJlbW90ZQ%3D%3D?line=2'>3</a>\u001b[0m torch\u001b[39m.\u001b[39mcuda\u001b[39m.\u001b[39mempty_cache()\n\u001b[1;32m      <a href='vscode-notebook-cell://ssh-remote%2Bprivsec0.inf.ethz.ch/home/obalcells/a23-jailbreaks-obalcells/experiments/llama2_tl_bug/repro.ipynb#W1sdnNjb2RlLXJlbW90ZQ%3D%3D?line=3'>4</a>\u001b[0m \u001b[39mfor\u001b[39;00m device \u001b[39min\u001b[39;00m devices:\n\u001b[0;32m----> <a href='vscode-notebook-cell://ssh-remote%2Bprivsec0.inf.ethz.ch/home/obalcells/a23-jailbreaks-obalcells/experiments/llama2_tl_bug/repro.ipynb#W1sdnNjb2RlLXJlbW90ZQ%3D%3D?line=4'>5</a>\u001b[0m     \u001b[39mprint\u001b[39m(torch\u001b[39m.\u001b[39;49mcuda\u001b[39m.\u001b[39;49mmemory_summary(device\u001b[39m=\u001b[39;49mdevice))\n",
      "File \u001b[0;32m/local/home/obalcells/miniforge3/envs/jailbreak/lib/python3.11/site-packages/torch/cuda/memory.py:557\u001b[0m, in \u001b[0;36mmemory_summary\u001b[0;34m(device, abbreviated)\u001b[0m\n\u001b[1;32m    554\u001b[0m \u001b[39mfor\u001b[39;00m submetric_key, submetric_name \u001b[39min\u001b[39;00m submetrics:\n\u001b[1;32m    555\u001b[0m     prefix \u001b[39m=\u001b[39m metric_key \u001b[39m+\u001b[39m \u001b[39m\"\u001b[39m\u001b[39m.\u001b[39m\u001b[39m\"\u001b[39m \u001b[39m+\u001b[39m submetric_key \u001b[39m+\u001b[39m \u001b[39m\"\u001b[39m\u001b[39m.\u001b[39m\u001b[39m\"\u001b[39m\n\u001b[0;32m--> 557\u001b[0m     current \u001b[39m=\u001b[39m stats[prefix \u001b[39m+\u001b[39;49m \u001b[39m\"\u001b[39;49m\u001b[39mcurrent\u001b[39;49m\u001b[39m\"\u001b[39;49m]\n\u001b[1;32m    558\u001b[0m     peak \u001b[39m=\u001b[39m stats[prefix \u001b[39m+\u001b[39m \u001b[39m\"\u001b[39m\u001b[39mpeak\u001b[39m\u001b[39m\"\u001b[39m]\n\u001b[1;32m    559\u001b[0m     allocated \u001b[39m=\u001b[39m stats[prefix \u001b[39m+\u001b[39m \u001b[39m\"\u001b[39m\u001b[39mallocated\u001b[39m\u001b[39m\"\u001b[39m]\n",
      "\u001b[0;31mKeyError\u001b[0m: 'allocated_bytes.all.current'"
     ]
    }
   ],
   "source": [
    "device_ids = [0, 1]\n",
    "devices = [torch.device(f\"cuda:{i}\") for i in device_ids]\n",
    "torch.cuda.empty_cache()\n",
    "for device in devices:\n",
    "    print(torch.cuda.memory_summary(device=device))"
   ]
  },
  {
   "cell_type": "code",
   "execution_count": 51,
   "metadata": {},
   "outputs": [
    {
     "name": "stdout",
     "output_type": "stream",
     "text": [
      "tensor([[    1, 15043,   891, 29901]])\n"
     ]
    }
   ],
   "source": [
    "with torch.no_grad():\n",
    "    tokens = tl_model.tokenizer.encode(\"Hello |:\", return_tensors=\"pt\")\n",
    "    print(tokens.data)"
   ]
  },
  {
   "cell_type": "code",
   "execution_count": 37,
   "metadata": {},
   "outputs": [],
   "source": [
    "def check_similarity_with_hf_model(\n",
    "    tl_model: HookedTransformer,\n",
    "    hf_model: AutoModelForCausalLM,\n",
    "    atol: float,\n",
    "    prompt=\"Hello world!\",\n",
    "):\n",
    "    tokens = tl_model.tokenizer.encode(prompt, return_tensors=\"pt\")\n",
    "    hf_logits = hf_model(tokens.to(devices[0])).logits\n",
    "    tl_logits = tl_model(tokens.to(devices[1]), prepend_bos=False)\n",
    "    assert torch.allclose(tl_logits.cpu(), hf_logits.cpu(), atol=atol), \"Numerical error too large\""
   ]
  },
  {
   "cell_type": "code",
   "execution_count": 3,
   "metadata": {},
   "outputs": [
    {
     "data": {
      "application/vnd.jupyter.widget-view+json": {
       "model_id": "de5d3dc0df8b41eaa707ae41dbc99714",
       "version_major": 2,
       "version_minor": 0
      },
      "text/plain": [
       "Loading checkpoint shards:   0%|          | 0/2 [00:00<?, ?it/s]"
      ]
     },
     "metadata": {},
     "output_type": "display_data"
    }
   ],
   "source": [
    "MODEL_NAME = \"meta-llama/Llama-2-7b-chat-hf\"\n",
    "\n",
    "hf_model = AutoModelForCausalLM.from_pretrained(\n",
    "    MODEL_NAME,\n",
    "    low_cpu_mem_usage=True,\n",
    "    torch_dtype=torch.float32,\n",
    ").to(devices[0])"
   ]
  },
  {
   "cell_type": "code",
   "execution_count": 4,
   "metadata": {},
   "outputs": [
    {
     "data": {
      "application/vnd.jupyter.widget-view+json": {
       "model_id": "9267ec2df7cf48bf927ef85ee6cb1164",
       "version_major": 2,
       "version_minor": 0
      },
      "text/plain": [
       "Loading checkpoint shards:   0%|          | 0/2 [00:00<?, ?it/s]"
      ]
     },
     "metadata": {},
     "output_type": "display_data"
    },
    {
     "name": "stdout",
     "output_type": "stream",
     "text": [
      "Loaded pretrained model meta-llama/Llama-2-7b-chat-hf into HookedTransformer\n"
     ]
    }
   ],
   "source": [
    "tl_model = HookedTransformer.from_pretrained(\n",
    "    MODEL_NAME,\n",
    "    hf_model=AutoModelForCausalLM.from_pretrained(\n",
    "        MODEL_NAME,\n",
    "        low_cpu_mem_usage=True,\n",
    "        torch_dtype=torch.float32,\n",
    "    ),\n",
    "    tokenizer=AutoTokenizer.from_pretrained(MODEL_NAME),\n",
    "    device=devices[1],\n",
    "    n_devices=1,\n",
    "    move_to_device=True,\n",
    "    fold_ln=False,\n",
    "    fold_value_biases=False,\n",
    "    center_writing_weights=False,\n",
    "    center_unembed=False,\n",
    "    torch_dtype=torch.float32,\n",
    "    \n",
    ")"
   ]
  },
  {
   "cell_type": "code",
   "execution_count": 6,
   "metadata": {},
   "outputs": [
    {
     "ename": "AssertionError",
     "evalue": "",
     "output_type": "error",
     "traceback": [
      "\u001b[0;31m---------------------------------------------------------------------------\u001b[0m",
      "\u001b[0;31mAssertionError\u001b[0m                            Traceback (most recent call last)",
      "\u001b[1;32m/home/obalcells/a23-jailbreaks-obalcells/experiments/llama2_tl_bug/repro.ipynb Cell 6\u001b[0m line \u001b[0;36m2\n\u001b[1;32m      <a href='vscode-notebook-cell://ssh-remote%2Bprivsec0.inf.ethz.ch/home/obalcells/a23-jailbreaks-obalcells/experiments/llama2_tl_bug/repro.ipynb#W5sdnNjb2RlLXJlbW90ZQ%3D%3D?line=0'>1</a>\u001b[0m \u001b[39mwith\u001b[39;00m torch\u001b[39m.\u001b[39mno_grad():\n\u001b[0;32m----> <a href='vscode-notebook-cell://ssh-remote%2Bprivsec0.inf.ethz.ch/home/obalcells/a23-jailbreaks-obalcells/experiments/llama2_tl_bug/repro.ipynb#W5sdnNjb2RlLXJlbW90ZQ%3D%3D?line=1'>2</a>\u001b[0m     check_similarity_with_hf_model(tl_model, hf_model, atol\u001b[39m=\u001b[39;49m\u001b[39m1\u001b[39;49m)\n",
      "\u001b[1;32m/home/obalcells/a23-jailbreaks-obalcells/experiments/llama2_tl_bug/repro.ipynb Cell 6\u001b[0m line \u001b[0;36m1\n\u001b[1;32m      <a href='vscode-notebook-cell://ssh-remote%2Bprivsec0.inf.ethz.ch/home/obalcells/a23-jailbreaks-obalcells/experiments/llama2_tl_bug/repro.ipynb#W5sdnNjb2RlLXJlbW90ZQ%3D%3D?line=7'>8</a>\u001b[0m hf_logits \u001b[39m=\u001b[39m hf_model(tokens\u001b[39m.\u001b[39mto(devices[\u001b[39m0\u001b[39m]))\u001b[39m.\u001b[39mlogits\n\u001b[1;32m      <a href='vscode-notebook-cell://ssh-remote%2Bprivsec0.inf.ethz.ch/home/obalcells/a23-jailbreaks-obalcells/experiments/llama2_tl_bug/repro.ipynb#W5sdnNjb2RlLXJlbW90ZQ%3D%3D?line=8'>9</a>\u001b[0m tl_logits \u001b[39m=\u001b[39m tl_model(tokens\u001b[39m.\u001b[39mto(devices[\u001b[39m1\u001b[39m]), prepend_bos\u001b[39m=\u001b[39m\u001b[39mFalse\u001b[39;00m)\n\u001b[0;32m---> <a href='vscode-notebook-cell://ssh-remote%2Bprivsec0.inf.ethz.ch/home/obalcells/a23-jailbreaks-obalcells/experiments/llama2_tl_bug/repro.ipynb#W5sdnNjb2RlLXJlbW90ZQ%3D%3D?line=9'>10</a>\u001b[0m \u001b[39massert\u001b[39;00m torch\u001b[39m.\u001b[39mallclose(tl_logits\u001b[39m.\u001b[39mcpu(), hf_logits\u001b[39m.\u001b[39mcpu(), atol\u001b[39m=\u001b[39matol)\n",
      "\u001b[0;31mAssertionError\u001b[0m: "
     ]
    }
   ],
   "source": [
    "with torch.no_grad():\n",
    "    check_similarity_with_hf_model(tl_model, hf_model, atol=1)"
   ]
  },
  {
   "cell_type": "code",
   "execution_count": 92,
   "metadata": {},
   "outputs": [],
   "source": [
    "# before running this we've replaced ln1 and ln2 at each layer with the corresponding ln in the HF model\n",
    "with torch.no_grad():\n",
    "    check_similarity_with_hf_model(tl_model, hf_model, atol=0.0001)"
   ]
  },
  {
   "cell_type": "code",
   "execution_count": 11,
   "metadata": {},
   "outputs": [],
   "source": [
    "class AttnWrapper(torch.nn.Module):\n",
    "    def __init__(self, attn):\n",
    "        super().__init__()\n",
    "        self.attn = attn\n",
    "        self.save_activations = False \n",
    "        self.activations = None\n",
    "\n",
    "    def forward(self, *args, **kwargs):\n",
    "        output = self.attn(*args, **kwargs)\n",
    "        if self.save_activations:\n",
    "            self.activations = output[0]\n",
    "        return output\n",
    "\n",
    "class BlockOutputWrapper(torch.nn.Module):\n",
    "    def __init__(self, block, unembed_matrix, norm):\n",
    "        super().__init__()\n",
    "        self.block = block\n",
    "        self.unembed_matrix = unembed_matrix\n",
    "        self.norm = norm\n",
    "\n",
    "        self.block.self_attn = AttnWrapper(self.block.self_attn)\n",
    "        self.post_attention_layernorm = self.block.post_attention_layernorm\n",
    "\n",
    "        self.attn_out_unembedded = None\n",
    "        self.intermediate_resid_unembedded = None\n",
    "        self.mlp_out_unembedded = None\n",
    "        self.block_out_unembedded = None\n",
    "\n",
    "        self.activations = None\n",
    "\n",
    "        self.save_activations = False\n",
    "        self.save_internal_decodings = False\n",
    "\n",
    "\n",
    "    def forward(self, *args, **kwargs):\n",
    "        output = self.block(*args, **kwargs)\n",
    "        activations: Float[Tensor, \"batch_size seq_len d_model\"] = output[0]\n",
    "\n",
    "        if self.save_activations:\n",
    "            self.activations = activations\n",
    "\n",
    "        return output\n",
    "\n",
    "    def reset(self):\n",
    "        self.activations = None\n",
    "        self.block.self_attn.activations = None\n",
    "\n",
    "\n",
    "class Llama2Wrapper:\n",
    "    def __init__(self, hf_model):\n",
    "        self.wrapped_model = hf_model\n",
    "\n",
    "        for i, layer in enumerate(self.wrapped_model.model.layers):\n",
    "            self.wrapped_model.model.layers[i] = BlockOutputWrapper(\n",
    "                layer, self.wrapped_model.lm_head, self.wrapped_model.model.norm\n",
    "            )\n",
    "\n",
    "    def set_save_activations(self, value, layers=None):\n",
    "        if layers is None:\n",
    "            for layer in self.wrapped_model.model.layers:\n",
    "                layer.save_activations = value\n",
    "                layer.block.self_attn.save_activations = value\n",
    "        elif isinstance(layers, int):\n",
    "            self.wrapped_model.model.layers[layers].save_activations = value\n",
    "            self.wrapped_model.model.layers[layers].block.self_attn.save_activations = value\n",
    "        elif isinstance(layers[0], int):\n",
    "            for layer in layers:\n",
    "                self.wrapped_model.model.layers[layer].save_activations = value\n",
    "                self.wrapped_model.model.layers[layer].block.self_attn.save_activations = value\n",
    "        else:\n",
    "            assert False, \"Incorrect input arguments to set_save_activations function\"\n",
    "\n",
    "    def set_save_internal_decodings(self, value):\n",
    "        for layer in self.wrapped_model.model.layers:\n",
    "            layer.save_internal_decodings = value\n",
    "\n",
    "    def get_logits(self, tokens):\n",
    "        with torch.no_grad():\n",
    "            logits = self.wrapped_model(tokens).logits\n",
    "            return logits\n",
    "\n",
    "    def get_last_activations(self, layer):\n",
    "        return self.wrapped_model.model.layers[layer].activations\n",
    "\n",
    "    def reset_all(self):\n",
    "        for layer in self.wrapped_model.model.layers:\n",
    "            layer.reset()\n",
    "\n",
    "    def __call__(self, *args, **kwargs):\n",
    "        return self.wrapped_model(*args, **kwargs)\n",
    "\n",
    "    def unwrap(self):\n",
    "        for i, layer in enumerate(self.wrapped_model.model.layers):\n",
    "            self.wrapped_model.model.layers[i] = layer.block\n"
   ]
  },
  {
   "cell_type": "code",
   "execution_count": 12,
   "metadata": {},
   "outputs": [],
   "source": [
    "hf_wrapped_model = Llama2Wrapper(hf_model)"
   ]
  },
  {
   "cell_type": "code",
   "execution_count": 52,
   "metadata": {},
   "outputs": [
    {
     "ename": "AssertionError",
     "evalue": "",
     "output_type": "error",
     "traceback": [
      "\u001b[0;31m---------------------------------------------------------------------------\u001b[0m",
      "\u001b[0;31mAssertionError\u001b[0m                            Traceback (most recent call last)",
      "\u001b[1;32m/home/obalcells/a23-jailbreaks-obalcells/experiments/llama2_tl_bug/repro.ipynb Cell 9\u001b[0m line \u001b[0;36m2\n\u001b[1;32m      <a href='vscode-notebook-cell://ssh-remote%2Bprivsec0.inf.ethz.ch/home/obalcells/a23-jailbreaks-obalcells/experiments/llama2_tl_bug/repro.ipynb#X33sdnNjb2RlLXJlbW90ZQ%3D%3D?line=0'>1</a>\u001b[0m \u001b[39mwith\u001b[39;00m torch\u001b[39m.\u001b[39mno_grad():\n\u001b[0;32m----> <a href='vscode-notebook-cell://ssh-remote%2Bprivsec0.inf.ethz.ch/home/obalcells/a23-jailbreaks-obalcells/experiments/llama2_tl_bug/repro.ipynb#X33sdnNjb2RlLXJlbW90ZQ%3D%3D?line=1'>2</a>\u001b[0m     check_similarity_with_hf_model(tl_model, hf_wrapped_model, atol\u001b[39m=\u001b[39;49m\u001b[39m1\u001b[39;49m)\n",
      "\u001b[1;32m/home/obalcells/a23-jailbreaks-obalcells/experiments/llama2_tl_bug/repro.ipynb Cell 9\u001b[0m line \u001b[0;36m1\n\u001b[1;32m      <a href='vscode-notebook-cell://ssh-remote%2Bprivsec0.inf.ethz.ch/home/obalcells/a23-jailbreaks-obalcells/experiments/llama2_tl_bug/repro.ipynb#X33sdnNjb2RlLXJlbW90ZQ%3D%3D?line=7'>8</a>\u001b[0m hf_logits \u001b[39m=\u001b[39m hf_model(tokens\u001b[39m.\u001b[39mto(devices[\u001b[39m0\u001b[39m]))\u001b[39m.\u001b[39mlogits\n\u001b[1;32m      <a href='vscode-notebook-cell://ssh-remote%2Bprivsec0.inf.ethz.ch/home/obalcells/a23-jailbreaks-obalcells/experiments/llama2_tl_bug/repro.ipynb#X33sdnNjb2RlLXJlbW90ZQ%3D%3D?line=8'>9</a>\u001b[0m tl_logits \u001b[39m=\u001b[39m tl_model(tokens\u001b[39m.\u001b[39mto(devices[\u001b[39m1\u001b[39m]), prepend_bos\u001b[39m=\u001b[39m\u001b[39mFalse\u001b[39;00m)\n\u001b[0;32m---> <a href='vscode-notebook-cell://ssh-remote%2Bprivsec0.inf.ethz.ch/home/obalcells/a23-jailbreaks-obalcells/experiments/llama2_tl_bug/repro.ipynb#X33sdnNjb2RlLXJlbW90ZQ%3D%3D?line=9'>10</a>\u001b[0m \u001b[39massert\u001b[39;00m torch\u001b[39m.\u001b[39mallclose(tl_logits\u001b[39m.\u001b[39mcpu(), hf_logits\u001b[39m.\u001b[39mcpu(), atol\u001b[39m=\u001b[39matol)\n",
      "\u001b[0;31mAssertionError\u001b[0m: "
     ]
    }
   ],
   "source": [
    "with torch.no_grad():\n",
    "    check_similarity_with_hf_model(tl_model, hf_wrapped_model, atol=1)"
   ]
  },
  {
   "cell_type": "code",
   "execution_count": 15,
   "metadata": {},
   "outputs": [],
   "source": [
    "with torch.no_grad():\n",
    "    check_similarity_with_hf_model(tl_model, hf_wrapped_model, atol=1.4)"
   ]
  },
  {
   "cell_type": "markdown",
   "metadata": {},
   "source": [
    "Check the error at different layers"
   ]
  },
  {
   "cell_type": "code",
   "execution_count": 14,
   "metadata": {},
   "outputs": [],
   "source": [
    "def check_error_layer(layer):\n",
    "    hf_wrapped_model.reset_all()\n",
    "    hf_wrapped_model.set_save_activations(True, layer)\n",
    "    hf_wrapped_model.set_save_internal_decodings(True)\n",
    "\n",
    "    tokens = tl_model.tokenizer.encode(\"Hello world!\", return_tensors=\"pt\")\n",
    "    with torch.no_grad():\n",
    "        hf_logits = hf_wrapped_model.get_logits(tokens.to(devices[0]))\n",
    "        hf_activations = hf_wrapped_model.get_last_activations(layer)\n",
    "        print(\"HF activations\", hf_activations[0, 0, :10])\n",
    "\n",
    "    tl_activations = torch.zeros_like(hf_activations, device=devices[1])\n",
    "\n",
    "    def hook_fn(activations, hook):\n",
    "        tl_activations = activations\n",
    "        print(\"TL activations\", activations[0, 0, :10])\n",
    "    \n",
    "    hook_filter = lambda name: name.startswith(f\"blocks.{layer}.hook_resid_post\")\n",
    "    \n",
    "    with torch.no_grad():\n",
    "        tl_model.run_with_hooks(\n",
    "            tokens.to(devices[1]),\n",
    "            prepend_bos=False,\n",
    "            fwd_hooks=[(hook_filter, hook_fn)],\n",
    "        )\n",
    "\n",
    "    diff = torch.abs(tl_activations.cpu() - hf_activations.cpu())\n",
    "    print(\"Diff\", diff[0, 0, :10])\n",
    "    print(\"Max difference\", diff.max().item())\n",
    "    print(\"Max difference in last token position\", diff[0,-1,:].max().item())\n",
    "    print(\"Mean difference in the last token position\", diff[-1,-1,:].mean().item())\n",
    "    print(\"Mean difference in first token position\", diff[-1,0,:].mean().item())\n",
    "\n",
    "    hf_wrapped_model.set_save_activations(False)\n",
    "    hf_wrapped_model.set_save_internal_decodings(False)\n",
    "    hf_wrapped_model.reset_all()"
   ]
  },
  {
   "cell_type": "code",
   "execution_count": 13,
   "metadata": {},
   "outputs": [
    {
     "ename": "NameError",
     "evalue": "name 'check_error_layer' is not defined",
     "output_type": "error",
     "traceback": [
      "\u001b[0;31m---------------------------------------------------------------------------\u001b[0m",
      "\u001b[0;31mNameError\u001b[0m                                 Traceback (most recent call last)",
      "\u001b[1;32m/home/obalcells/a23-jailbreaks-obalcells/experiments/llama2_tl_bug/repro.ipynb Cell 13\u001b[0m line \u001b[0;36m1\n\u001b[0;32m----> <a href='vscode-notebook-cell://ssh-remote%2Bprivsec0.inf.ethz.ch/home/obalcells/a23-jailbreaks-obalcells/experiments/llama2_tl_bug/repro.ipynb#X15sdnNjb2RlLXJlbW90ZQ%3D%3D?line=0'>1</a>\u001b[0m check_error_layer(\u001b[39m0\u001b[39m)\n",
      "\u001b[0;31mNameError\u001b[0m: name 'check_error_layer' is not defined"
     ]
    }
   ],
   "source": [
    "check_error_layer(0)"
   ]
  },
  {
   "cell_type": "markdown",
   "metadata": {},
   "source": [
    "### Observations:\n",
    "\n",
    "- The TL model seems to consume about 0.5 GB more of GPU memory\n",
    "```\n",
    " Device 1 [NVIDIA RTX A6000] PCIe GEN 1@16x RX: 0.000 KiB/s TX: 0.977 MiB/s\n",
    " GPU 210MHz  MEM 405MHz  TEMP  42°C FAN  30% POW  26 / 300 W\n",
    " GPU[                              0%] MEM[||||||||||||||25.965Gi/47.988Gi]\n",
    " Device 2 [NVIDIA RTX A6000] PCIe GEN 1@16x RX: 1.953 MiB/s TX: 0.000 KiB/s\n",
    " GPU 210MHz  MEM 405MHz  TEMP  42°C FAN  30% POW  22 / 300 W\n",
    " GPU[                              1%] MEM[||||||||||||||26.472Gi/47.988Gi]\n",
    "```\n",
    "- Assert triggered with atol=1.0 but not with atol=1.4\n",
    "- Extremely big imprecision at hook_resid_post even at early layers\n",
    "    - Max difference `activations_layer_2[0,0,:].max() = 758.8073120117188`\n",
    "    - Max difference in `activations_layer_2[0,-1,:].max() = 0.8543080687522888`\n",
    "    - Mean difference in `activations_layer_2[0,-1,:].max() = 0.8543080687522888`\n",
    "    - Mean difference `activations_layer_2[0,-1,:].mean() = 0.03889806941151619`\n",
    "    - Mean difference `activations_layer_2[0,0,:].mean() = 0.6288346648216248`\n",
    "- Even at layer 0?!?\n",
    "    - Max difference 4.763709545135498\n",
    "    - Max difference in last token position 1.8098640441894531\n",
    "    - Mean difference in the last token position 0.02045099064707756\n",
    "    - Mean difference in first token position 0.06380023807287216"
   ]
  },
  {
   "cell_type": "markdown",
   "metadata": {},
   "source": [
    "Let's check the earliest part where the differences occur"
   ]
  },
  {
   "cell_type": "code",
   "execution_count": 15,
   "metadata": {},
   "outputs": [],
   "source": [
    "class BlockOutputWrapper(torch.nn.Module):\n",
    "    def __init__(self, block, unembed_matrix, norm):\n",
    "        super().__init__()\n",
    "        self.block = block\n",
    "        self.unembed_matrix = unembed_matrix\n",
    "        self.norm = norm\n",
    "\n",
    "        self.block.self_attn = AttnWrapper(self.block.self_attn)\n",
    "        self.post_attention_layernorm = self.block.post_attention_layernorm\n",
    "\n",
    "        self.attn_out_unembedded = None\n",
    "        self.intermediate_resid_unembedded = None\n",
    "        self.mlp_out_unembedded = None\n",
    "        self.block_out_unembedded = None\n",
    "\n",
    "        self.activations = None\n",
    "\n",
    "        self.save_activations = False\n",
    "        self.save_internal_decodings = False\n",
    "\n",
    "    def forward(self, *args, **kwargs):\n",
    "        # print(kwargs.keys())\n",
    "        # print(args[0].shape)\n",
    "        if self.save_activations:\n",
    "            self.activations = args[0]\n",
    "        output = self.block(*args, **kwargs)\n",
    "        activations: Float[Tensor, \"batch_size seq_len d_model\"] = output[0]\n",
    "        # if self.save_activations:\n",
    "        #     self.activations = activations\n",
    "        return output\n",
    "\n",
    "    def reset(self):\n",
    "        self.activations = None\n",
    "        self.block.self_attn.activations = None"
   ]
  },
  {
   "cell_type": "code",
   "execution_count": 10,
   "metadata": {},
   "outputs": [
    {
     "ename": "NameError",
     "evalue": "name 'Llama2Wrapper' is not defined",
     "output_type": "error",
     "traceback": [
      "\u001b[0;31m---------------------------------------------------------------------------\u001b[0m",
      "\u001b[0;31mNameError\u001b[0m                                 Traceback (most recent call last)",
      "\u001b[1;32m/home/obalcells/a23-jailbreaks-obalcells/experiments/llama2_tl_bug/repro.ipynb Cell 17\u001b[0m line \u001b[0;36m2\n\u001b[1;32m      <a href='vscode-notebook-cell://ssh-remote%2Bprivsec0.inf.ethz.ch/home/obalcells/a23-jailbreaks-obalcells/experiments/llama2_tl_bug/repro.ipynb#X22sdnNjb2RlLXJlbW90ZQ%3D%3D?line=0'>1</a>\u001b[0m \u001b[39m#hf_wrapped_model.unwrap()\u001b[39;00m\n\u001b[0;32m----> <a href='vscode-notebook-cell://ssh-remote%2Bprivsec0.inf.ethz.ch/home/obalcells/a23-jailbreaks-obalcells/experiments/llama2_tl_bug/repro.ipynb#X22sdnNjb2RlLXJlbW90ZQ%3D%3D?line=1'>2</a>\u001b[0m hf_wrapped_model \u001b[39m=\u001b[39m Llama2Wrapper(hf_model)\n",
      "\u001b[0;31mNameError\u001b[0m: name 'Llama2Wrapper' is not defined"
     ]
    }
   ],
   "source": [
    "#hf_wrapped_model.unwrap()\n",
    "hf_wrapped_model = Llama2Wrapper(hf_model)"
   ]
  },
  {
   "cell_type": "code",
   "execution_count": 14,
   "metadata": {},
   "outputs": [],
   "source": [
    "def check_error_layer_resid_pre(layer, atol=1.0):\n",
    "    hf_wrapped_model.reset_all()\n",
    "    hf_wrapped_model.set_save_activations(True, layer)\n",
    "    hf_wrapped_model.set_save_internal_decodings(True)\n",
    "\n",
    "    tokens = tl_model.tokenizer.encode(\"Hello world!\", return_tensors=\"pt\")\n",
    "    with torch.no_grad():\n",
    "        hf_logits = hf_wrapped_model.get_logits(tokens.to(devices[0]))\n",
    "        hf_activations = hf_wrapped_model.get_last_activations(layer)\n",
    "        # print(\"HF activations\", hf_activations[0, 0, :10])\n",
    "\n",
    "    tl_activations_ = torch.zeros_like(hf_activations, device=\"cpu\")\n",
    "\n",
    "    def hook_fn(activations, hook):\n",
    "        tl_activations_ = activations.clone().cpu()\n",
    "        # print(\"TL activations\", activations[0, 0, :10])\n",
    "    \n",
    "    hook_filter = lambda name: name.startswith(f\"blocks.{layer}.hook_resid_pre\")\n",
    "    \n",
    "    with torch.no_grad():\n",
    "        tl_model.run_with_hooks(\n",
    "            tokens.to(devices[1]),\n",
    "            prepend_bos=False,\n",
    "            fwd_hooks=[(hook_filter, hook_fn)],\n",
    "        )\n",
    "\n",
    "    diff_ = torch.abs(tl_activations_ - hf_activations.cpu())\n",
    "\n",
    "    mean_diff = diff_.mean().item()\n",
    "    std_diff = diff_.std().item()\n",
    "    max_diff = diff_.max().item()\n",
    "\n",
    "    print(f\"Mean diff: {mean_diff:.3f}, std diff: {std_diff:.3f}, max diff: {max_diff:.3f}\")\n",
    "\n",
    "    # print(\"Diff\", diff_[0,0,:10])\n",
    "    # print(\"Initial mean difference\", diff_[0,0,:10].mean().item())\n",
    "    # print(\"Max difference\", diff_.max().item())\n",
    "    # print(\"Max difference in last token position\", diff_[0,-1,:].max().item())\n",
    "    # print(\"Mean difference in the last token position\", diff_[-1,-1,:].mean().item())\n",
    "    # print(\"Mean difference in first token position\", diff_[-1,0,:].mean().item())\n",
    "\n",
    "    hf_wrapped_model.set_save_activations(False)\n",
    "    hf_wrapped_model.set_save_internal_decodings(False)\n",
    "    hf_wrapped_model.reset_all()\n",
    "\n",
    "    return mean_diff, std_diff, max_diff\n",
    "\n",
    "    # assert torch.allclose(tl_activations_.cpu(), hf_activations.cpu(), atol=atol)"
   ]
  },
  {
   "cell_type": "code",
   "execution_count": 16,
   "metadata": {},
   "outputs": [
    {
     "name": "stdout",
     "output_type": "stream",
     "text": [
      "Mean diff: 0.032, std diff: 0.068, max diff: 4.764\n",
      "Mean diff: 0.182, std diff: 6.896, max diff: 754.642\n",
      "Mean diff: 0.189, std diff: 6.934, max diff: 758.807\n",
      "Mean diff: 0.202, std diff: 6.935, max diff: 758.917\n",
      "Mean diff: 0.234, std diff: 7.001, max diff: 766.477\n",
      "Mean diff: 0.246, std diff: 7.002, max diff: 766.606\n",
      "Mean diff: 0.260, std diff: 7.002, max diff: 766.675\n",
      "Mean diff: 0.275, std diff: 7.002, max diff: 766.750\n",
      "Mean diff: 0.292, std diff: 7.002, max diff: 766.798\n",
      "Mean diff: 0.307, std diff: 7.003, max diff: 767.036\n",
      "Mean diff: 0.323, std diff: 7.003, max diff: 767.103\n",
      "Mean diff: 0.333, std diff: 7.004, max diff: 767.378\n",
      "Mean diff: 0.348, std diff: 7.006, max diff: 767.737\n",
      "Mean diff: 0.364, std diff: 7.009, max diff: 768.382\n",
      "Mean diff: 0.392, std diff: 7.010, max diff: 768.585\n",
      "Mean diff: 0.435, std diff: 7.012, max diff: 768.893\n",
      "Mean diff: 0.446, std diff: 7.037, max diff: 772.978\n",
      "Mean diff: 0.474, std diff: 7.040, max diff: 773.291\n",
      "Mean diff: 0.507, std diff: 7.042, max diff: 773.628\n",
      "Mean diff: 0.527, std diff: 7.043, max diff: 774.492\n",
      "Mean diff: 0.555, std diff: 7.045, max diff: 774.612\n",
      "Mean diff: 0.594, std diff: 7.050, max diff: 774.960\n",
      "Mean diff: 0.624, std diff: 7.056, max diff: 775.449\n",
      "Mean diff: 0.643, std diff: 7.060, max diff: 775.765\n",
      "Mean diff: 0.679, std diff: 7.065, max diff: 775.727\n",
      "Mean diff: 0.702, std diff: 7.066, max diff: 775.576\n",
      "Mean diff: 0.743, std diff: 7.072, max diff: 775.436\n",
      "Mean diff: 0.790, std diff: 7.070, max diff: 774.749\n",
      "Mean diff: 0.833, std diff: 7.072, max diff: 774.028\n",
      "Mean diff: 0.886, std diff: 7.042, max diff: 770.158\n",
      "Mean diff: 0.911, std diff: 3.752, max diff: 400.935\n",
      "Mean diff: 1.200, std diff: 2.055, max diff: 149.444\n"
     ]
    }
   ],
   "source": [
    "mean_diffs = []\n",
    "std_diffs = []\n",
    "max_diffs = []\n",
    "\n",
    "for i in range(32):\n",
    "    mean_diff, std_diff, max_diff = check_error_layer_resid_pre(i, atol=1.0)\n",
    "    mean_diffs.append(mean_diff)\n",
    "    std_diffs.append(std_diff)\n",
    "    max_diffs.append(max_diff)\n",
    "\n",
    "# plot the results using matplotlib in the same figure with legends\n"
   ]
  },
  {
   "cell_type": "code",
   "execution_count": 17,
   "metadata": {},
   "outputs": [
    {
     "data": {
      "image/png": "[encoded data removed]",
      "text/plain": [
       "<Figure size 640x480 with 1 Axes>"
      ]
     },
     "metadata": {},
     "output_type": "display_data"
    }
   ],
   "source": [
    "x = np.arange(32)\n",
    "width = 0.2\n",
    "\n",
    "fig, ax = plt.subplots()\n",
    "rects1 = ax.bar(x - width, mean_diffs, width, label='mean')\n",
    "#rects2 = ax.bar(x, std_diffs, width, label='std')\n",
    "#rects3 = ax.bar(x + width, max_diffs, width, label='max')\n",
    "\n",
    "ax.set_ylabel('Error')\n",
    "ax.set_title('Error by layer at resid pre')\n",
    "ax.set_xticks(x)\n",
    "ax.set_xticklabels(x)\n",
    "ax.legend()\n",
    "\n",
    "fig.tight_layout()\n",
    "\n",
    "plt.show()"
   ]
  },
  {
   "cell_type": "code",
   "execution_count": 73,
   "metadata": {},
   "outputs": [
    {
     "name": "stdout",
     "output_type": "stream",
     "text": [
      "HF activations tensor([ 1.8387e-03, -3.8147e-03,  9.6130e-04,  2.9297e-03, -3.9978e-03,\n",
      "        -8.0566e-03, -5.4016e-03, -2.9449e-03, -6.7444e-03, -3.8147e-06],\n",
      "       device='cuda:0')\n",
      "TL activations tensor([ 1.8387e-03, -3.8147e-03,  9.6130e-04,  2.9297e-03, -3.9978e-03,\n",
      "        -8.0566e-03, -5.4016e-03, -2.9449e-03, -6.7444e-03, -3.8147e-06],\n",
      "       device='cuda:1')\n",
      "Diff tensor([1.8387e-03, 3.8147e-03, 9.6130e-04, 2.9297e-03, 3.9978e-03, 8.0566e-03,\n",
      "        5.4016e-03, 2.9449e-03, 6.7444e-03, 3.8147e-06])\n",
      "Initial mean difference 0.003669357392936945\n",
      "Max difference 0.1337890625\n",
      "Max difference in last token position 0.10546875\n",
      "Mean difference in the last token position 0.007406735792756081\n",
      "Mean difference in first token position 0.00494754733517766\n"
     ]
    }
   ],
   "source": [
    "check_error_layer_resid_pre(0, atol=0.2)"
   ]
  },
  {
   "cell_type": "code",
   "execution_count": 75,
   "metadata": {},
   "outputs": [
    {
     "name": "stdout",
     "output_type": "stream",
     "text": [
      "HF activations tensor([ 0.0886, -0.5498,  0.3824, -0.1176, -0.3164,  0.5601,  0.5420,  0.2211,\n",
      "        -0.3377,  0.0552], device='cuda:0')\n",
      "TL activations tensor([ 0.0810, -0.5411,  0.3784, -0.1277, -0.3329,  0.5589,  0.5300,  0.2359,\n",
      "        -0.3244,  0.0455], device='cuda:1')\n",
      "Diff tensor([0.0886, 0.5498, 0.3824, 0.1176, 0.3164, 0.5601, 0.5420, 0.2211, 0.3377,\n",
      "        0.0552])\n",
      "Initial mean difference 0.31708166003227234\n",
      "Max difference 770.1580810546875\n",
      "Max difference in last token position 49.95972442626953\n",
      "Mean difference in the last token position 0.925025224685669\n",
      "Mean difference in first token position 0.6924221515655518\n"
     ]
    },
    {
     "ename": "AssertionError",
     "evalue": "",
     "output_type": "error",
     "traceback": [
      "\u001b[0;31m---------------------------------------------------------------------------\u001b[0m",
      "\u001b[0;31mAssertionError\u001b[0m                            Traceback (most recent call last)",
      "\u001b[1;32m/home/obalcells/a23-jailbreaks-obalcells/experiments/llama2_tl_bug/repro.ipynb Cell 20\u001b[0m line \u001b[0;36m1\n\u001b[0;32m----> <a href='vscode-notebook-cell://ssh-remote%2Bprivsec0.inf.ethz.ch/home/obalcells/a23-jailbreaks-obalcells/experiments/llama2_tl_bug/repro.ipynb#X65sdnNjb2RlLXJlbW90ZQ%3D%3D?line=0'>1</a>\u001b[0m check_error_layer_resid_pre(\u001b[39m30\u001b[39;49m, atol\u001b[39m=\u001b[39;49m\u001b[39m0.2\u001b[39;49m)\n",
      "\u001b[1;32m/home/obalcells/a23-jailbreaks-obalcells/experiments/llama2_tl_bug/repro.ipynb Cell 20\u001b[0m line \u001b[0;36m3\n\u001b[1;32m     <a href='vscode-notebook-cell://ssh-remote%2Bprivsec0.inf.ethz.ch/home/obalcells/a23-jailbreaks-obalcells/experiments/llama2_tl_bug/repro.ipynb#X65sdnNjb2RlLXJlbW90ZQ%3D%3D?line=35'>36</a>\u001b[0m hf_wrapped_model\u001b[39m.\u001b[39mset_save_internal_decodings(\u001b[39mFalse\u001b[39;00m)\n\u001b[1;32m     <a href='vscode-notebook-cell://ssh-remote%2Bprivsec0.inf.ethz.ch/home/obalcells/a23-jailbreaks-obalcells/experiments/llama2_tl_bug/repro.ipynb#X65sdnNjb2RlLXJlbW90ZQ%3D%3D?line=36'>37</a>\u001b[0m hf_wrapped_model\u001b[39m.\u001b[39mreset_all()\n\u001b[0;32m---> <a href='vscode-notebook-cell://ssh-remote%2Bprivsec0.inf.ethz.ch/home/obalcells/a23-jailbreaks-obalcells/experiments/llama2_tl_bug/repro.ipynb#X65sdnNjb2RlLXJlbW90ZQ%3D%3D?line=38'>39</a>\u001b[0m \u001b[39massert\u001b[39;00m torch\u001b[39m.\u001b[39mallclose(tl_activations_\u001b[39m.\u001b[39mcpu(), hf_activations\u001b[39m.\u001b[39mcpu(), atol\u001b[39m=\u001b[39matol)\n",
      "\u001b[0;31mAssertionError\u001b[0m: "
     ]
    }
   ],
   "source": [
    "check_error_layer_resid_pre(30, atol=0.2)"
   ]
  },
  {
   "cell_type": "code",
   "execution_count": 18,
   "metadata": {},
   "outputs": [],
   "source": [
    "def check_relative_error_layer_resid_pre(layer, atol=1.0):\n",
    "    hf_wrapped_model.reset_all()\n",
    "    hf_wrapped_model.set_save_activations(True, layer)\n",
    "    hf_wrapped_model.set_save_internal_decodings(True)\n",
    "\n",
    "    tokens = tl_model.tokenizer.encode(\"Hello world! How are you?\", return_tensors=\"pt\").cpu()\n",
    "\n",
    "    hf_activations = torch.zeros((len(tokens), len(tokens[0]), 4096), device=\"cpu\", dtype=torch.float32)\n",
    "    tl_activations = torch.zeros_like(hf_activations, device=\"cpu\", dtype=torch.float32)\n",
    "\n",
    "    with torch.no_grad():\n",
    "        hf_logits = hf_wrapped_model.get_logits(tokens.to(devices[0]))\n",
    "        hf_activations = hf_wrapped_model.get_last_activations(layer).cpu()\n",
    "        print(\"HF activations\", hf_activations[0, 0, :5])\n",
    "\n",
    "    def store_activations(activations, hook, tl_activations_):\n",
    "        tl_activations_ += activations.cpu()\n",
    "        print(\"TL activations\", tl_activations_[0, 0, :5])\n",
    "    \n",
    "    hook_filter = lambda name: name.startswith(f\"blocks.{layer}.hook_resid_pre\")\n",
    "    hook_fn = functools.partial(store_activations, tl_activations_=tl_activations)\n",
    "    \n",
    "    with torch.no_grad():\n",
    "        tl_model.run_with_hooks(\n",
    "            tokens.to(devices[1]),\n",
    "            prepend_bos=False,\n",
    "            fwd_hooks=[(hook_filter, hook_fn)],\n",
    "        )\n",
    "\n",
    "        \n",
    "    diff = torch.abs((hf_activations - tl_activations) / hf_activations)\n",
    "    print(\"Diff\", diff[0, 0, :5])\n",
    "\n",
    "    mean_diff = diff.mean().item()\n",
    "    std_diff = diff.std().item()\n",
    "    max_diff = diff.max().item()\n",
    "\n",
    "    print(f\"Layer {layer}, mean error: {mean_diff:.3f}, std diff: {std_diff:.3f}, max diff: {max_diff:.3f}\")\n",
    "\n",
    "    # print(\"Diff\", diff_[0,0,:10])\n",
    "    # print(\"Initial mean difference\", diff_[0,0,:10].mean().item())\n",
    "    # print(\"Max difference\", diff_.max().item())\n",
    "    # print(\"Max difference in last token position\", diff_[0,-1,:].max().item())\n",
    "    # print(\"Mean difference in the last token position\", diff_[-1,-1,:].mean().item())\n",
    "    # print(\"Mean difference in first token position\", diff_[-1,0,:].mean().item())\n",
    "\n",
    "    hf_wrapped_model.set_save_activations(False)\n",
    "    hf_wrapped_model.set_save_internal_decodings(False)\n",
    "    hf_wrapped_model.reset_all()\n",
    "\n",
    "    return mean_diff, std_diff, max_diff\n",
    "\n",
    "    # assert torch.allclose(tl_activations_.cpu(), hf_activations.cpu(), atol=atol)"
   ]
  },
  {
   "cell_type": "code",
   "execution_count": 19,
   "metadata": {},
   "outputs": [
    {
     "name": "stdout",
     "output_type": "stream",
     "text": [
      "HF activations tensor([-0.0116,  0.0113,  0.0560,  0.0331, -0.1477])\n",
      "TL activations tensor([ 0.0018, -0.0038,  0.0010,  0.0029, -0.0040])\n",
      "Diff tensor([1.1582, 1.3382, 0.9828, 0.9115, 0.9729])\n",
      "Layer 0, mean error: 2.635, std diff: 87.518, max diff: 12687.897\n",
      "HF activations tensor([ 0.0699, -0.5114,  0.0642, -0.0617, -0.0583])\n",
      "TL activations tensor([-0.0130,  0.0088,  0.0571,  0.0356, -0.1513])\n",
      "Diff tensor([1.1862, 1.0171, 0.1104, 1.5774, 1.5940])\n",
      "Layer 1, mean error: 5.837, std diff: 520.253, max diff: 93607.367\n",
      "HF activations tensor([ 0.1070, -0.5451,  0.0946, -0.1130, -0.0241])\n",
      "TL activations tensor([ 0.0669, -0.5043,  0.0658, -0.0571, -0.0646])\n",
      "Diff tensor([0.3745, 0.0748, 0.3042, 0.4951, 1.6782])\n",
      "Layer 2, mean error: 3.360, std diff: 133.236, max diff: 22969.088\n",
      "HF activations tensor([ 0.1178, -0.5735,  0.1002, -0.1144, -0.0045])\n",
      "TL activations tensor([ 0.1041, -0.5380,  0.0961, -0.1084, -0.0304])\n",
      "Diff tensor([0.1162, 0.0620, 0.0404, 0.0526, 5.7385])\n",
      "Layer 3, mean error: 2.537, std diff: 41.379, max diff: 4148.770\n",
      "HF activations tensor([ 0.0043, -0.7096,  0.0107, -0.1676, -0.3199])\n",
      "TL activations tensor([ 0.1149, -0.5665,  0.1016, -0.1097, -0.0108])\n",
      "Diff tensor([25.4876,  0.2017,  8.5135,  0.3453,  0.9662])\n",
      "Layer 4, mean error: 2.935, std diff: 58.861, max diff: 8586.600\n",
      "HF activations tensor([ 0.0040, -0.6987,  0.0542, -0.1582, -0.3068])\n",
      "TL activations tensor([ 0.0020, -0.7024,  0.0125, -0.1630, -0.3252])\n",
      "Diff tensor([0.4909, 0.0054, 0.7689, 0.0300, 0.0599])\n",
      "Layer 5, mean error: 2.818, std diff: 63.920, max diff: 9381.199\n",
      "HF activations tensor([ 0.0092, -0.6800,  0.0698, -0.1853, -0.2771])\n",
      "TL activations tensor([ 0.0018, -0.6916,  0.0563, -0.1536, -0.3122])\n",
      "Diff tensor([0.8081, 0.0170, 0.1935, 0.1713, 0.1268])\n",
      "Layer 6, mean error: 2.820, std diff: 76.998, max diff: 12099.652\n",
      "HF activations tensor([ 0.0089, -0.6570,  0.0738, -0.2000, -0.2314])\n",
      "TL activations tensor([ 0.0070, -0.6727,  0.0718, -0.1807, -0.2824])\n",
      "Diff tensor([0.2080, 0.0238, 0.0277, 0.0965, 0.2206])\n",
      "Layer 7, mean error: 2.812, std diff: 41.815, max diff: 3584.681\n",
      "HF activations tensor([ 0.0204, -0.6517,  0.0920, -0.1836, -0.1794])\n",
      "TL activations tensor([ 0.0069, -0.6498,  0.0760, -0.1954, -0.2366])\n",
      "Diff tensor([0.6629, 0.0028, 0.1741, 0.0648, 0.3193])\n",
      "Layer 8, mean error: 3.072, std diff: 101.056, max diff: 15112.383\n",
      "HF activations tensor([ 0.0032, -0.5989,  0.0828, -0.1944, -0.1995])\n",
      "TL activations tensor([ 0.0184, -0.6442,  0.0942, -0.1792, -0.1844])\n",
      "Diff tensor([4.7890, 0.0756, 0.1376, 0.0783, 0.0753])\n",
      "Layer 9, mean error: 2.915, std diff: 68.289, max diff: 8867.148\n",
      "HF activations tensor([ 0.0416, -0.5579,  0.0965, -0.2527, -0.2029])\n",
      "TL activations tensor([ 0.0012, -0.5915,  0.0849, -0.1902, -0.2044])\n",
      "Diff tensor([0.9705, 0.0603, 0.1202, 0.2475, 0.0072])\n",
      "Layer 10, mean error: 3.313, std diff: 204.083, max diff: 36161.793\n",
      "HF activations tensor([ 0.0457, -0.5591,  0.1220, -0.2793, -0.2139])\n",
      "TL activations tensor([ 0.0396, -0.5505,  0.0985, -0.2486, -0.2080])\n",
      "Diff tensor([0.1337, 0.0154, 0.1928, 0.1099, 0.0279])\n",
      "Layer 11, mean error: 3.125, std diff: 86.829, max diff: 11877.921\n",
      "HF activations tensor([ 0.0473, -0.6102,  0.1359, -0.3197, -0.2041])\n",
      "TL activations tensor([ 0.0440, -0.5518,  0.1237, -0.2752, -0.2190])\n",
      "Diff tensor([0.0689, 0.0958, 0.0902, 0.1391, 0.0731])\n",
      "Layer 12, mean error: 6.703, std diff: 561.362, max diff: 78252.656\n",
      "HF activations tensor([ 0.0248, -0.6272,  0.1405, -0.3627, -0.1848])\n",
      "TL activations tensor([ 0.0456, -0.6027,  0.1377, -0.3155, -0.2096])\n",
      "Diff tensor([0.8407, 0.0390, 0.0205, 0.1301, 0.1342])\n",
      "Layer 13, mean error: 2.812, std diff: 84.303, max diff: 12321.832\n",
      "HF activations tensor([ 0.0088, -0.6497,  0.1688, -0.4312, -0.1759])\n",
      "TL activations tensor([ 0.0229, -0.6197,  0.1425, -0.3584, -0.1906])\n",
      "Diff tensor([1.6030, 0.0463, 0.1559, 0.1689, 0.0837])\n",
      "Layer 14, mean error: 3.141, std diff: 142.163, max diff: 23751.621\n",
      "HF activations tensor([-0.0406, -0.6230,  0.2021, -0.5495, -0.1917])\n",
      "TL activations tensor([ 0.0073, -0.6420,  0.1706, -0.4270, -0.1818])\n",
      "Diff tensor([1.1784, 0.0304, 0.1558, 0.2230, 0.0516])\n",
      "Layer 15, mean error: 2.600, std diff: 85.486, max diff: 14386.854\n",
      "HF activations tensor([-0.3077, -0.4716,  0.2225, -0.2083, -0.6240])\n",
      "TL activations tensor([-0.0419, -0.6155,  0.2040, -0.5449, -0.1978])\n",
      "Diff tensor([0.8637, 0.3052, 0.0830, 1.6161, 0.6831])\n",
      "Layer 16, mean error: 3.836, std diff: 164.583, max diff: 27455.951\n",
      "HF activations tensor([-0.2519, -0.4438,  0.2036, -0.3261, -0.6328])\n",
      "TL activations tensor([-0.3085, -0.4641,  0.2245, -0.2037, -0.6297])\n",
      "Diff tensor([0.2243, 0.0457, 0.1023, 0.3753, 0.0050])\n",
      "Layer 17, mean error: 1.957, std diff: 31.865, max diff: 3840.505\n",
      "HF activations tensor([-0.2812, -0.4344,  0.2283, -0.3701, -0.6681])\n",
      "TL activations tensor([-0.2522, -0.4362,  0.2055, -0.3219, -0.6387])\n",
      "Diff tensor([0.1033, 0.0040, 0.0997, 0.1304, 0.0441])\n",
      "Layer 18, mean error: 2.585, std diff: 145.872, max diff: 25899.727\n",
      "HF activations tensor([-0.3204, -0.3803,  0.2613, -0.0405, -0.6127])\n",
      "TL activations tensor([-0.2817, -0.4269,  0.2302, -0.3658, -0.6738])\n",
      "Diff tensor([0.1206, 0.1227, 0.1191, 8.0279, 0.0998])\n",
      "Layer 19, mean error: 42.198, std diff: 7251.024, max diff: 1312546.375\n",
      "HF activations tensor([-0.3674, -0.3489,  0.2550, -0.1055, -0.5996])\n",
      "TL activations tensor([-0.3203, -0.3730,  0.2624, -0.0371, -0.6185])\n",
      "Diff tensor([0.1281, 0.0691, 0.0290, 0.6484, 0.0315])\n",
      "Layer 20, mean error: 2.205, std diff: 110.169, max diff: 19140.598\n",
      "HF activations tensor([-0.3182, -0.3518,  0.2062, -0.1075, -0.6134])\n",
      "TL activations tensor([-0.3680, -0.3418,  0.2558, -0.1022, -0.6067])\n",
      "Diff tensor([0.1566, 0.0286, 0.2405, 0.0491, 0.0110])\n",
      "Layer 21, mean error: 2.059, std diff: 42.661, max diff: 4052.627\n",
      "HF activations tensor([-0.2659, -0.3472,  0.2334, -0.1473, -0.6120])\n",
      "TL activations tensor([-0.3190, -0.3448,  0.2070, -0.1033, -0.6197])\n",
      "Diff tensor([0.2000, 0.0070, 0.1128, 0.2985, 0.0126])\n",
      "Layer 22, mean error: 1.639, std diff: 45.704, max diff: 6696.587\n",
      "HF activations tensor([-0.2705, -0.2738,  0.2164, -0.1645, -0.6174])\n",
      "TL activations tensor([-0.2664, -0.3406,  0.2337, -0.1434, -0.6183])\n",
      "Diff tensor([0.0153, 0.2440, 0.0795, 0.1283, 0.0016])\n",
      "Layer 23, mean error: 2.071, std diff: 97.575, max diff: 16658.121\n",
      "HF activations tensor([-0.2157, -0.2935,  0.1859, -0.1708, -0.5971])\n",
      "TL activations tensor([-0.2708, -0.2663,  0.2170, -0.1605, -0.6234])\n",
      "Diff tensor([0.2556, 0.0927, 0.1671, 0.0608, 0.0439])\n",
      "Layer 24, mean error: 1.174, std diff: 10.231, max diff: 770.487\n",
      "HF activations tensor([-0.2247, -0.3196,  0.1882, -0.1874, -0.5352])\n",
      "TL activations tensor([-0.2166, -0.2861,  0.1867, -0.1664, -0.6038])\n",
      "Diff tensor([0.0360, 0.1051, 0.0084, 0.1123, 0.1282])\n",
      "Layer 25, mean error: 1.563, std diff: 45.307, max diff: 7504.847\n",
      "HF activations tensor([-0.2035, -0.3021,  0.2229, -0.2110, -0.5241])\n",
      "TL activations tensor([-0.2261, -0.3120,  0.1890, -0.1838, -0.5413])\n",
      "Diff tensor([0.1110, 0.0326, 0.1519, 0.1288, 0.0327])\n",
      "Layer 26, mean error: 1.510, std diff: 32.319, max diff: 4516.000\n",
      "HF activations tensor([-0.0803, -0.3972,  0.2596, -0.1679, -0.4328])\n",
      "TL activations tensor([-0.2050, -0.2943,  0.2242, -0.2069, -0.5308])\n",
      "Diff tensor([1.5516, 0.2592, 0.1362, 0.2328, 0.2263])\n",
      "Layer 27, mean error: 1.602, std diff: 30.027, max diff: 4107.910\n",
      "HF activations tensor([-0.0145, -0.5385,  0.2587, -0.2364, -0.4298])\n",
      "TL activations tensor([-0.0814, -0.3904,  0.2610, -0.1632, -0.4392])\n",
      "Diff tensor([4.6117, 0.2751, 0.0089, 0.3095, 0.0219])\n",
      "Layer 28, mean error: 2.079, std diff: 48.472, max diff: 5368.249\n",
      "HF activations tensor([ 0.0886, -0.5498,  0.3824, -0.1176, -0.3164])\n",
      "TL activations tensor([-0.0158, -0.5315,  0.2600, -0.2346, -0.4363])\n",
      "Diff tensor([1.1780, 0.0333, 0.3200, 0.9943, 0.3792])\n",
      "Layer 29, mean error: 1.882, std diff: 33.196, max diff: 3350.653\n",
      "HF activations tensor([-0.0069, -0.1699,  0.0211, -0.2171, -0.2469])\n",
      "TL activations tensor([ 0.0810, -0.5411,  0.3784, -0.1277, -0.3329])\n",
      "Diff tensor([12.7574,  2.1847, 16.9541,  0.4120,  0.3480])\n",
      "Layer 30, mean error: 2.769, std diff: 61.934, max diff: 9416.870\n",
      "HF activations tensor([ 0.4269, -0.1142,  0.0215,  0.0020, -0.3525])\n",
      "TL activations tensor([-0.0174, -0.1737,  0.0199, -0.2112, -0.2510])\n",
      "Diff tensor([1.0407e+00, 5.2118e-01, 7.0366e-02, 1.0766e+02, 2.8797e-01])\n",
      "Layer 31, mean error: 2.983, std diff: 31.037, max diff: 1977.813\n"
     ]
    }
   ],
   "source": [
    "mean_diffs = []\n",
    "std_diffs = []\n",
    "max_diffs = []\n",
    "\n",
    "for i in range(32):\n",
    "    mean_diff, std_diff, max_diff = check_relative_error_layer_resid_pre(i, atol=1.0)\n",
    "    mean_diffs.append(mean_diff)\n",
    "    std_diffs.append(std_diff)\n",
    "    max_diffs.append(max_diff)\n",
    "\n",
    "# plot the results using matplotlib in the same figure with legends"
   ]
  },
  {
   "cell_type": "code",
   "execution_count": 70,
   "metadata": {},
   "outputs": [
    {
     "data": {
      "image/png": "[encoded data removed]",
      "text/plain": [
       "<Figure size 640x480 with 1 Axes>"
      ]
     },
     "metadata": {},
     "output_type": "display_data"
    }
   ],
   "source": [
    "x = np.arange(32)\n",
    "width = 0.2\n",
    "\n",
    "fig, ax = plt.subplots()\n",
    "rects1 = ax.bar(x - width, mean_diffs, width, label='mean')\n",
    "#rects2 = ax.bar(x, std_diffs, width, label='std')\n",
    "#rects3 = ax.bar(x + width, max_diffs, width, label='max')\n",
    "\n",
    "ax.set_ylabel('Error')\n",
    "ax.set_title('Error by layer at resid pre')\n",
    "ax.set_xticks(x)\n",
    "ax.set_xticklabels(x)\n",
    "ax.legend()\n",
    "\n",
    "fig.tight_layout()\n",
    "\n",
    "plt.show()"
   ]
  },
  {
   "cell_type": "markdown",
   "metadata": {},
   "source": [
    "abs((hf_acts - tl_acts) / hf_acts)"
   ]
  },
  {
   "cell_type": "code",
   "execution_count": 75,
   "metadata": {},
   "outputs": [
    {
     "data": {
      "image/png": "[encoded data removed]",
      "text/plain": [
       "<Figure size 640x480 with 1 Axes>"
      ]
     },
     "metadata": {},
     "output_type": "display_data"
    }
   ],
   "source": [
    "x = np.arange(32)\n",
    "width = 0.2\n",
    "\n",
    "fig, ax = plt.subplots()\n",
    "rects1 = ax.bar(x - width, mean_diffs, width, label='mean')\n",
    "#rects2 = ax.bar(x, std_diffs, width, label='std')\n",
    "#rects3 = ax.bar(x + width, max_diffs, width, label='max')\n",
    "\n",
    "ax.set_ylabel('Error')\n",
    "ax.set_title('Error by layer at resid pre')\n",
    "ax.set_xticks(x)\n",
    "ax.set_xticklabels(x)\n",
    "ax.legend()\n",
    "\n",
    "fig.tight_layout()\n",
    "\n",
    "plt.show()"
   ]
  },
  {
   "cell_type": "markdown",
   "metadata": {},
   "source": [
    "Is the layernorm at fault?"
   ]
  },
  {
   "cell_type": "code",
   "execution_count": 41,
   "metadata": {},
   "outputs": [],
   "source": [
    "class BlockOutputWrapper(torch.nn.Module):\n",
    "    def __init__(self, block, unembed_matrix, norm):\n",
    "        super().__init__()\n",
    "        self.block = block\n",
    "        self.unembed_matrix = unembed_matrix\n",
    "        self.norm = norm\n",
    "\n",
    "        self.block.self_attn = AttnWrapper(self.block.self_attn)\n",
    "        # self.input_layernorm = LlamaRMSNorm(config.hidden_size, eps=config.rms_norm_eps)\n",
    "        self.input_layernorm = self.block.input_layernorm\n",
    "        self.post_attention_layernorm = self.block.post_attention_layernorm\n",
    "\n",
    "        self.attn_out_unembedded = None\n",
    "        self.intermediate_resid_unembedded = None\n",
    "        self.mlp_out_unembedded = None\n",
    "        self.block_out_unembedded = None\n",
    "\n",
    "        self.activations = None\n",
    "\n",
    "        self.save_activations = False\n",
    "        self.save_internal_decodings = False\n",
    "\n",
    "    def forward(self, *args, **kwargs):\n",
    "        # print(kwargs.keys())\n",
    "        # print(args[0].shape)\n",
    "        if self.save_activations:\n",
    "            print(\"HF Pre activations\", args[0][0,0,:10])\n",
    "            self.activations = self.input_layernorm(args[0])\n",
    "        output = self.block(*args, **kwargs)\n",
    "        # activations: Float[Tensor, \"batch_size seq_len d_model\"] = output[0]\n",
    "        # if self.save_activations:\n",
    "        #     self.activations = activations\n",
    "        return output\n",
    "\n",
    "    def reset(self):\n",
    "        self.activations = None\n",
    "        self.block.self_attn.activations = None \n",
    "\n",
    "hf_wrapped_model.unwrap()\n",
    "hf_wrapped_model = Llama2Wrapper(hf_model)"
   ]
  },
  {
   "cell_type": "code",
   "execution_count": 8,
   "metadata": {},
   "outputs": [],
   "source": [
    "ln1 = tl_model.blocks[0].ln1"
   ]
  },
  {
   "cell_type": "code",
   "execution_count": 46,
   "metadata": {},
   "outputs": [],
   "source": [
    "def check_relative_error_layer_pre_attn(layer, atol=1.0):\n",
    "    hf_wrapped_model.reset_all()\n",
    "    hf_wrapped_model.set_save_activations(True, layer)\n",
    "    hf_wrapped_model.set_save_internal_decodings(True)\n",
    "\n",
    "    tokens = tl_model.tokenizer.encode(\"Hello world! How are you?\", return_tensors=\"pt\").cpu()\n",
    "\n",
    "    hf_activations = torch.zeros((len(tokens), len(tokens[0]), 4096), device=\"cpu\", dtype=torch.float32)\n",
    "    tl_activations = torch.zeros_like(hf_activations, device=\"cpu\", dtype=torch.float32)\n",
    "\n",
    "    with torch.no_grad():\n",
    "        hf_logits = hf_wrapped_model.get_logits(tokens.to(devices[0]))\n",
    "        hf_activations = hf_wrapped_model.get_last_activations(layer).cpu()\n",
    "        print(\"HF activations\", hf_activations[0, 0, :5])\n",
    "\n",
    "    def store_activations(activations, hook, tl_activations_):\n",
    "        print(activations[0, 0, 0, :5])\n",
    "        tl_activations_ += ln1(activations[:,:,0,:]).cpu()\n",
    "        print(\"TL activations\", tl_activations_[0, 0, :5])\n",
    "    \n",
    "    # hook_filter = lambda name: name.startswith(f\"blocks.{layer}.hook_q_input\")\n",
    "    # tl_utils.get_act_name(layer, \"hook_q_input\")\n",
    "    # hook_name = tl_utils.get_act_name(\"q_input\", layer),\n",
    "    # print(hook_name)\n",
    "    hook_filter = lambda name: name.startswith(f\"blocks.{layer}.hook_attn_in\")\n",
    "    hook_fn = functools.partial(store_activations, tl_activations_=tl_activations)\n",
    "    \n",
    "    with torch.no_grad():\n",
    "        tl_model.run_with_hooks(\n",
    "            tokens.to(devices[1]),\n",
    "            prepend_bos=False,\n",
    "            fwd_hooks=[(hook_filter, hook_fn)],\n",
    "        )\n",
    "        \n",
    "    diff = torch.abs((hf_activations - tl_activations) / hf_activations)\n",
    "    print(\"Diff\", diff[0, 0, :5])\n",
    "\n",
    "    mean_diff = diff.mean().item()\n",
    "    std_diff = diff.std().item()\n",
    "    max_diff = diff.max().item()\n",
    "\n",
    "    print(f\"Layer {layer}, mean error: {mean_diff:.3f}, std diff: {std_diff:.3f}, max diff: {max_diff:.3f}\")\n",
    "\n",
    "    hf_wrapped_model.set_save_activations(False)\n",
    "    hf_wrapped_model.set_save_internal_decodings(False)\n",
    "    hf_wrapped_model.reset_all()\n",
    "\n",
    "    return mean_diff, std_diff, max_diff\n",
    "\n",
    "    # assert torch.allclose(tl_activations_.cpu(), hf_activations.cpu(), atol=atol)"
   ]
  },
  {
   "cell_type": "code",
   "execution_count": 18,
   "metadata": {},
   "outputs": [],
   "source": [
    "# tl_model.set_use_hook_mlp_in(True)\n",
    "# tl_model.set_use_split_qkv_input(True)\n",
    "# tl_model.set_use_attn_result(True)"
   ]
  },
  {
   "cell_type": "code",
   "execution_count": 28,
   "metadata": {},
   "outputs": [],
   "source": [
    "tl_model.set_use_attn_in(True)"
   ]
  },
  {
   "cell_type": "code",
   "execution_count": 47,
   "metadata": {},
   "outputs": [
    {
     "name": "stdout",
     "output_type": "stream",
     "text": [
      "HF Pre activations tensor([ 1.8387e-03, -3.8147e-03,  9.6130e-04,  2.9297e-03, -3.9978e-03,\n",
      "        -8.0566e-03, -5.4016e-03, -2.9449e-03, -6.7444e-03, -3.8147e-06],\n",
      "       device='cuda:0')\n",
      "HF activations tensor([ 0.0065, -0.0064,  0.0004,  0.0046, -0.0072])\n",
      "tensor([ 0.0018, -0.0038,  0.0010,  0.0029, -0.0040], device='cuda:1')\n",
      "TL activations tensor([ 0.0070, -0.0068,  0.0004,  0.0049, -0.0077])\n",
      "Diff tensor([0.0710, 0.0710, 0.0710, 0.0710, 0.0710])\n",
      "Layer 0, mean error: 0.037, std diff: 0.016, max diff: 0.071\n"
     ]
    },
    {
     "data": {
      "text/plain": [
       "(0.036657512187957764, 0.01582922227680683, 0.071043960750103)"
      ]
     },
     "execution_count": 47,
     "metadata": {},
     "output_type": "execute_result"
    }
   ],
   "source": [
    "check_relative_error_layer_pre_attn(0, atol=1.0)"
   ]
  },
  {
   "cell_type": "code",
   "execution_count": null,
   "metadata": {},
   "outputs": [],
   "source": [
    "tokens = tl_model.tokenizer.encode(\"Hello world! How are you?\", return_tensors=\"pt\").cpu()\n",
    "hook_filter = utils.get_act_name\n",
    "\n",
    "\n",
    "with torch.no_grad():\n",
    "    tl_model.run_with_hooks(\n",
    "        tokens.to(devices[1]),\n",
    "        prepend_bos=False,\n",
    "    )"
   ]
  },
  {
   "cell_type": "markdown",
   "metadata": {},
   "source": [
    "### Replacing TL LN with HF LN at *every* layer"
   ]
  },
  {
   "cell_type": "code",
   "execution_count": 16,
   "metadata": {},
   "outputs": [],
   "source": [
    "from copy import deepcopy"
   ]
  },
  {
   "cell_type": "code",
   "execution_count": 83,
   "metadata": {},
   "outputs": [],
   "source": [
    "for layer in range(32):\n",
    "    tl_model.blocks[layer].ln1 = deepcopy(hf_wrapped_model.wrapped_model.model.layers[layer].block.input_layernorm).to(devices[1])\n",
    "    tl_model.blocks[layer].ln2 = deepcopy(hf_wrapped_model.wrapped_model.model.layers[layer].block.post_attention_layernorm).to(devices[1])"
   ]
  },
  {
   "cell_type": "code",
   "execution_count": 75,
   "metadata": {},
   "outputs": [],
   "source": [
    "class BlockOutputWrapper(torch.nn.Module):\n",
    "    def __init__(self, block, unembed_matrix, norm):\n",
    "        super().__init__()\n",
    "        self.block = block\n",
    "        self.unembed_matrix = unembed_matrix\n",
    "        self.norm = norm\n",
    "\n",
    "        self.block.self_attn = AttnWrapper(self.block.self_attn)\n",
    "        # self.input_layernorm = LlamaRMSNorm(config.hidden_size, eps=config.rms_norm_eps)\n",
    "        self.input_layernorm = self.block.input_layernorm\n",
    "        self.post_attention_layernorm = self.block.post_attention_layernorm\n",
    "\n",
    "        self.attn_out_unembedded = None\n",
    "        self.intermediate_resid_unembedded = None\n",
    "        self.mlp_out_unembedded = None\n",
    "        self.block_out_unembedded = None\n",
    "\n",
    "        self.activations = None\n",
    "\n",
    "        self.save_activations = False\n",
    "        self.save_internal_decodings = False\n",
    "\n",
    "    def forward(self, *args, **kwargs):\n",
    "        # print(kwargs.keys())\n",
    "        # print(args[0].shape)\n",
    "        # if self.save_activations:\n",
    "        #     print(\"HF Pre activations\", args[0][0,0,:10])\n",
    "        #     self.activations = self.input_layernorm(args[0])\n",
    "        output = self.block(*args, **kwargs)\n",
    "        # activations: Float[Tensor, \"batch_size seq_len d_model\"] = output[0]\n",
    "        # if self.save_activations:\n",
    "        #     self.activations = activations\n",
    "        return output\n",
    "\n",
    "    def reset(self):\n",
    "        self.activations = None\n",
    "        self.block.self_attn.activations = None \n",
    "\n",
    "# hf_wrapped_model.unwrap()\n",
    "hf_wrapped_model = Llama2Wrapper(hf_model)"
   ]
  },
  {
   "cell_type": "code",
   "execution_count": 66,
   "metadata": {},
   "outputs": [],
   "source": [
    "for layer in range(32):\n",
    "    hf_wrapped_model.wrapped_model.model.layers[layer].input_layernorm.to(devices[0])\n",
    "    post_attention_layernorm"
   ]
  },
  {
   "cell_type": "markdown",
   "metadata": {},
   "source": [
    "resid_pre_hook -> attn_in_hook -> ? -> attn_out"
   ]
  },
  {
   "cell_type": "code",
   "execution_count": 85,
   "metadata": {},
   "outputs": [],
   "source": [
    "def replace_tl_rms(layer, disable_hooks=False, atol=1.0):\n",
    "    tokens = tl_model.tokenizer.encode(\"Hello world! How are you?\", return_tensors=\"pt\").cpu()\n",
    "\n",
    "    tl_activations = torch.zeros((len(tokens), len(tokens[0]), 4096), device=devices[1], dtype=torch.float32)\n",
    "\n",
    "    with torch.no_grad():\n",
    "        hf_logits = hf_wrapped_model(tokens.to(devices[0])).logits\n",
    "\n",
    "    def calculate_attn(attn_in, hook, tl_activations_):\n",
    "        layer = hook.layer()\n",
    "        assert hook.name.endswith(\"hook_attn_in\"), \"Invalid attn hook\"\n",
    "        hf_ln = hf_wrapped_model.wrapped_model.model.layers[layer].input_layernorm.to(devices[1])\n",
    "        attn_out = tl_model.blocks[layer].attn(\n",
    "            query_input=hf_ln(attn_in),\n",
    "            key_input=hf_ln(attn_in),\n",
    "            value_input=hf_ln(attn_in),\n",
    "            past_kv_cache_entry=None,\n",
    "            attention_mask=None\n",
    "        )\n",
    "        hf_ln = hf_wrapped_model.wrapped_model.model.layers[layer].input_layernorm.to(devices[0])\n",
    "        if layer == 0:\n",
    "            print(attn_out.shape)\n",
    "        tl_activations_ += attn_out - tl_activations_\n",
    "\n",
    "    # elif hook.name.endswith(\"hook_mlp_in\"):\n",
    "    #     hf_ln = hf_wrapped_model.wrapped_model.model.layers[layer].post_attention_layernorm\n",
    "    #     tl_activations_ += hf_ln(activations) - tl_activations_\n",
    "\n",
    "    #     print(activations[0, 0, 0, :5])\n",
    "    #     tl_activations_ += ln1(activations[:,:,0,:]).cpu()\n",
    "    #     print(\"TL activations\", tl_activations_[0, 0, :5])\n",
    "    \n",
    "    # hook_filter = lambda name: name.startswith(f\"blocks.{layer}.hook_q_input\")\n",
    "    # tl_utils.get_act_name(layer, \"hook_q_input\")\n",
    "    # hook_name = tl_utils.get_act_name(\"q_input\", layer),\n",
    "    # print(hook_name)\n",
    "\n",
    "    hook_filter = lambda name: name.endswith(f\"hook_attn_in\")\n",
    "    hook_fn = functools.partial(\n",
    "        calculate_attn,\n",
    "        tl_activations_=tl_activations\n",
    "    )\n",
    "    \n",
    "    with torch.no_grad():\n",
    "        tl_logits = tl_model.run_with_hooks(\n",
    "            tokens.to(devices[1]),\n",
    "            prepend_bos=False,\n",
    "            fwd_hooks=([] if disable_hooks else [(hook_filter, hook_fn)]),\n",
    "        )\n",
    "        \n",
    "    relative_error = torch.abs((hf_logits.cpu() - tl_logits.cpu()) / hf_logits.cpu())\n",
    "    print(\"Relative error\", relative_error[0, 0, :5])\n",
    "\n",
    "    mean_diff = relative_error.mean().item()\n",
    "    std_diff = relative_error.std().item()\n",
    "    max_diff = relative_error.max().item()\n",
    "\n",
    "    print(f\"Layer {layer}, mean rel. error: {mean_diff:.3f}, std diff: {std_diff:.3f}, max diff: {max_diff:.3f}\")\n",
    "\n",
    "    return mean_diff, std_diff, max_diff\n",
    "\n",
    "    # assert torch.allclose(tl_activations_.cpu(), hf_activations.cpu(), atol=atol)"
   ]
  },
  {
   "cell_type": "code",
   "execution_count": 77,
   "metadata": {},
   "outputs": [
    {
     "name": "stdout",
     "output_type": "stream",
     "text": [
      "Relative error tensor([0.1777, 0.8098, 0.0275, 0.0883, 0.0229])\n",
      "Layer 0, mean rel. error: 0.368, std diff: 12.150, max diff: 5055.095\n"
     ]
    },
    {
     "data": {
      "text/plain": [
       "(0.3679742217063904, 12.150411605834961, 5055.0947265625)"
      ]
     },
     "execution_count": 77,
     "metadata": {},
     "output_type": "execute_result"
    }
   ],
   "source": [
    "# without replacement\n",
    "replace_tl_rms(0, atol=1.0)"
   ]
  },
  {
   "cell_type": "code",
   "execution_count": 86,
   "metadata": {},
   "outputs": [
    {
     "name": "stdout",
     "output_type": "stream",
     "text": [
      "Relative error tensor([8.7756e-05, 1.5429e-03, 1.9755e-05, 1.9332e-05, 8.5034e-06])\n",
      "Layer 0, mean rel. error: 0.000, std diff: 0.001, max diff: 0.225\n"
     ]
    },
    {
     "data": {
      "text/plain": [
       "(1.5189039913821034e-05, 0.0005916812806390226, 0.22513586282730103)"
      ]
     },
     "execution_count": 86,
     "metadata": {},
     "output_type": "execute_result"
    }
   ],
   "source": [
    "# without replacement\n",
    "replace_tl_rms(0, disable_hooks=True, atol=1.0)"
   ]
  },
  {
   "cell_type": "markdown",
   "metadata": {},
   "source": [
    "### Llama2 RMSNorm"
   ]
  },
  {
   "cell_type": "markdown",
   "metadata": {},
   "source": [
    "Huggingface"
   ]
  },
  {
   "cell_type": "code",
   "execution_count": null,
   "metadata": {},
   "outputs": [],
   "source": [
    "def hf_ln_forward(self, hidden_states):\n",
    "    input_dtype = hidden_states.dtype\n",
    "    hidden_states = hidden_states.to(torch.float32)\n",
    "    variance = hidden_states.pow(2).mean(-1, keepdim=True)\n",
    "    hidden_states = hidden_states * torch.rsqrt(variance + self.variance_epsilon)\n",
    "    return self.weight * hidden_states.to(input_dtype)"
   ]
  },
  {
   "cell_type": "markdown",
   "metadata": {},
   "source": [
    "TransformerLens"
   ]
  },
  {
   "cell_type": "code",
   "execution_count": null,
   "metadata": {},
   "outputs": [],
   "source": [
    "def tl_ln_forward(\n",
    "    self, x: Float[torch.Tensor, \"batch pos length\"]\n",
    ") -> Float[torch.Tensor, \"batch pos length\"]:\n",
    "    if self.cfg.dtype not in [torch.float32, torch.float64]:\n",
    "        x = x.to(torch.float32)\n",
    "\n",
    "    scale: Float[torch.Tensor, \"batch pos 1\"] = self.hook_scale(\n",
    "        (x.pow(2).mean(-1, keepdim=True) + self.eps).sqrt()\n",
    "    )\n",
    "    x = self.hook_normalized(x * inv_scale).to(self.cfg.dtype)  # [batch, pos, length]\n",
    "    return x * self.w"
   ]
  },
  {
   "cell_type": "markdown",
   "metadata": {},
   "source": [
    "### Fixing the implementation"
   ]
  },
  {
   "cell_type": "code",
   "execution_count": null,
   "metadata": {},
   "outputs": [],
   "source": [
    "# self.wrapped_model.model.layers[i] = BlockOutputWrapper(\n",
    "#     layer, self.wrapped_model.lm_head, self.wrapped_model.model.norm\n",
    "# )"
   ]
  },
  {
   "cell_type": "code",
   "execution_count": 10,
   "metadata": {},
   "outputs": [],
   "source": [
    "class RMSNorm(nn.Module):\n",
    "    def __init__(\n",
    "        self, cfg: Union[Dict, HookedTransformerConfig], length: Optional[int] = None\n",
    "    ):\n",
    "        \"\"\"\n",
    "        RMSNorm - LayerNorm without the centering and bias (RMS = Root Mean Square)\n",
    "\n",
    "        length (Optional[int]): If the dimension of the RMSNorm. If not provided, assumed to be d_model\n",
    "        \"\"\"\n",
    "        super().__init__()\n",
    "        if isinstance(cfg, Dict):\n",
    "            cfg = HookedTransformerConfig.from_dict(cfg)\n",
    "        self.cfg = cfg\n",
    "        self.eps = self.cfg.eps\n",
    "        if length is None:\n",
    "            self.length = self.cfg.d_model\n",
    "        else:\n",
    "            self.length = length\n",
    "\n",
    "        self.w = nn.Parameter(torch.ones(self.length, dtype=cfg.dtype))\n",
    "\n",
    "        # Adds a hook point for the normalisation scale factor\n",
    "        self.hook_scale = HookPoint()  # [batch, pos, 1]\n",
    "        self.hook_normalized = HookPoint()  # [batch, pos, length]\n",
    "\n",
    "    def forward(\n",
    "        self, x: Float[torch.Tensor, \"batch pos length\"]\n",
    "    ) -> Float[torch.Tensor, \"batch pos length\"]:\n",
    "        if self.cfg.dtype not in [torch.float32, torch.float64]:\n",
    "            x = x.to(torch.float32)\n",
    "\n",
    "        inv_scale = torch.rsqrt(x.pow(2).mean(-1, keepdim=True) + self.eps)\n",
    "\n",
    "        # scale: Float[torch.Tensor, \"batch pos 1\"] = self.hook_scale(\n",
    "        #     (x.pow(2).mean(-1, keepdim=True) + self.eps).sqrt()\n",
    "        # )\n",
    "        x = self.hook_normalized(x * inv_scale).to(self.cfg.dtype)  # [batch, pos, length]\n",
    "        return x * self.w"
   ]
  },
  {
   "cell_type": "code",
   "execution_count": 97,
   "metadata": {},
   "outputs": [
    {
     "name": "stdout",
     "output_type": "stream",
     "text": [
      "HF eps 1e-05\n",
      "HF w tensor([0.0298, 0.0140, 0.0031, 0.0131, 0.0151], device='cuda:1',\n",
      "       grad_fn=<SliceBackward0>)\n"
     ]
    }
   ],
   "source": [
    "print(f\"HF eps {tl_model.blocks[0].ln1.variance_epsilon}\")\n",
    "print(f\"HF w {tl_model.blocks[0].ln1.weight[:5]}\")"
   ]
  },
  {
   "cell_type": "code",
   "execution_count": 11,
   "metadata": {},
   "outputs": [
    {
     "name": "stdout",
     "output_type": "stream",
     "text": [
      "TL eps 1e-06\n",
      "TL w tensor([0.0298, 0.0140, 0.0031, 0.0131, 0.0151], device='cuda:1',\n",
      "       grad_fn=<SliceBackward0>)\n"
     ]
    }
   ],
   "source": [
    "print(f\"TL eps {tl_model.blocks[0].ln1.eps}\")\n",
    "print(f\"TL w {tl_model.blocks[0].ln1.w[:5]}\")"
   ]
  },
  {
   "cell_type": "code",
   "execution_count": null,
   "metadata": {},
   "outputs": [],
   "source": [
    "for layer in range(32):\n",
    "    tl_model.blocks[layer].ln1 = deepcopy(hf_wrapped_model.wrapped_model.model.layers[layer].block.input_layernorm).to(devices[1])\n",
    "    tl_model.blocks[layer].ln2 = deepcopy(hf_wrapped_model.wrapped_model.model.layers[layer].block.post_attention_layernorm).to(devices[1])"
   ]
  },
  {
   "cell_type": "code",
   "execution_count": 17,
   "metadata": {},
   "outputs": [],
   "source": [
    "tl_layer_norms = []\n",
    "for layer in range(32):\n",
    "    lns = [\n",
    "        deepcopy(tl_model.blocks[layer].ln1),\n",
    "        deepcopy(tl_model.blocks[layer].ln2)\n",
    "    ]\n",
    "    tl_layer_norms.append(lns)"
   ]
  },
  {
   "cell_type": "code",
   "execution_count": 28,
   "metadata": {},
   "outputs": [],
   "source": [
    "layer_norms = []\n",
    "for layer in range(32):\n",
    "    ln1 = RMSNorm(tl_model.cfg, length=tl_model.cfg.d_model)\n",
    "    ln2 = RMSNorm(tl_model.cfg, length=tl_model.cfg.d_model)\n",
    "    ln1.w = torch.nn.Parameter(hf_model.model.layers[layer].input_layernorm.weight.clone())\n",
    "    ln2.w = torch.nn.Parameter(hf_model.model.layers[layer].post_attention_layernorm.weight.clone())\n",
    "    ln1.to(devices[1])\n",
    "    ln2.to(devices[1])\n",
    "    lns = [ln1, ln2]\n",
    "    layer_norms.append(lns)"
   ]
  },
  {
   "cell_type": "code",
   "execution_count": 38,
   "metadata": {},
   "outputs": [
    {
     "ename": "AssertionError",
     "evalue": "Numerical error too large",
     "output_type": "error",
     "traceback": [
      "\u001b[0;31m---------------------------------------------------------------------------\u001b[0m",
      "\u001b[0;31mAssertionError\u001b[0m                            Traceback (most recent call last)",
      "\u001b[1;32m/home/obalcells/a23-jailbreaks-obalcells/experiments/llama2_tl_bug/repro.ipynb Cell 61\u001b[0m line \u001b[0;36m3\n\u001b[1;32m      <a href='vscode-notebook-cell://ssh-remote%2Bprivsec0.inf.ethz.ch/home/obalcells/a23-jailbreaks-obalcells/experiments/llama2_tl_bug/repro.ipynb#Y140sdnNjb2RlLXJlbW90ZQ%3D%3D?line=0'>1</a>\u001b[0m \u001b[39m# before changing ANYTHING\u001b[39;00m\n\u001b[1;32m      <a href='vscode-notebook-cell://ssh-remote%2Bprivsec0.inf.ethz.ch/home/obalcells/a23-jailbreaks-obalcells/experiments/llama2_tl_bug/repro.ipynb#Y140sdnNjb2RlLXJlbW90ZQ%3D%3D?line=1'>2</a>\u001b[0m \u001b[39mwith\u001b[39;00m torch\u001b[39m.\u001b[39mno_grad():\n\u001b[0;32m----> <a href='vscode-notebook-cell://ssh-remote%2Bprivsec0.inf.ethz.ch/home/obalcells/a23-jailbreaks-obalcells/experiments/llama2_tl_bug/repro.ipynb#Y140sdnNjb2RlLXJlbW90ZQ%3D%3D?line=2'>3</a>\u001b[0m     check_similarity_with_hf_model(tl_model, hf_model, atol\u001b[39m=\u001b[39;49m\u001b[39m1\u001b[39;49m)\n",
      "\u001b[1;32m/home/obalcells/a23-jailbreaks-obalcells/experiments/llama2_tl_bug/repro.ipynb Cell 61\u001b[0m line \u001b[0;36m1\n\u001b[1;32m      <a href='vscode-notebook-cell://ssh-remote%2Bprivsec0.inf.ethz.ch/home/obalcells/a23-jailbreaks-obalcells/experiments/llama2_tl_bug/repro.ipynb#Y140sdnNjb2RlLXJlbW90ZQ%3D%3D?line=7'>8</a>\u001b[0m hf_logits \u001b[39m=\u001b[39m hf_model(tokens\u001b[39m.\u001b[39mto(devices[\u001b[39m0\u001b[39m]))\u001b[39m.\u001b[39mlogits\n\u001b[1;32m      <a href='vscode-notebook-cell://ssh-remote%2Bprivsec0.inf.ethz.ch/home/obalcells/a23-jailbreaks-obalcells/experiments/llama2_tl_bug/repro.ipynb#Y140sdnNjb2RlLXJlbW90ZQ%3D%3D?line=8'>9</a>\u001b[0m tl_logits \u001b[39m=\u001b[39m tl_model(tokens\u001b[39m.\u001b[39mto(devices[\u001b[39m1\u001b[39m]), prepend_bos\u001b[39m=\u001b[39m\u001b[39mFalse\u001b[39;00m)\n\u001b[0;32m---> <a href='vscode-notebook-cell://ssh-remote%2Bprivsec0.inf.ethz.ch/home/obalcells/a23-jailbreaks-obalcells/experiments/llama2_tl_bug/repro.ipynb#Y140sdnNjb2RlLXJlbW90ZQ%3D%3D?line=9'>10</a>\u001b[0m \u001b[39massert\u001b[39;00m torch\u001b[39m.\u001b[39mallclose(tl_logits\u001b[39m.\u001b[39mcpu(), hf_logits\u001b[39m.\u001b[39mcpu(), atol\u001b[39m=\u001b[39matol), \u001b[39m\"\u001b[39m\u001b[39mNumerical error too large\u001b[39m\u001b[39m\"\u001b[39m\n",
      "\u001b[0;31mAssertionError\u001b[0m: Numerical error too large"
     ]
    }
   ],
   "source": [
    "# before changing ANYTHING\n",
    "with torch.no_grad():\n",
    "    check_similarity_with_hf_model(tl_model, hf_model, atol=1)"
   ]
  },
  {
   "cell_type": "code",
   "execution_count": 47,
   "metadata": {},
   "outputs": [],
   "source": [
    "for layer in range(32):\n",
    "    tl_model.blocks[layer].ln1 = layer_norms[layer][0].to(devices[1])\n",
    "    tl_model.blocks[layer].ln2 = layer_norms[layer][1].to(devices[1])"
   ]
  },
  {
   "cell_type": "code",
   "execution_count": 48,
   "metadata": {},
   "outputs": [
    {
     "ename": "AssertionError",
     "evalue": "Numerical error too large",
     "output_type": "error",
     "traceback": [
      "\u001b[0;31m---------------------------------------------------------------------------\u001b[0m",
      "\u001b[0;31mAssertionError\u001b[0m                            Traceback (most recent call last)",
      "\u001b[1;32m/home/obalcells/a23-jailbreaks-obalcells/experiments/llama2_tl_bug/repro.ipynb Cell 63\u001b[0m line \u001b[0;36m3\n\u001b[1;32m      <a href='vscode-notebook-cell://ssh-remote%2Bprivsec0.inf.ethz.ch/home/obalcells/a23-jailbreaks-obalcells/experiments/llama2_tl_bug/repro.ipynb#Y136sdnNjb2RlLXJlbW90ZQ%3D%3D?line=0'>1</a>\u001b[0m \u001b[39m# before running this we've replaced ln1 and ln2 at each layer with the corresponding ln in the HF model\u001b[39;00m\n\u001b[1;32m      <a href='vscode-notebook-cell://ssh-remote%2Bprivsec0.inf.ethz.ch/home/obalcells/a23-jailbreaks-obalcells/experiments/llama2_tl_bug/repro.ipynb#Y136sdnNjb2RlLXJlbW90ZQ%3D%3D?line=1'>2</a>\u001b[0m \u001b[39mwith\u001b[39;00m torch\u001b[39m.\u001b[39mno_grad():\n\u001b[0;32m----> <a href='vscode-notebook-cell://ssh-remote%2Bprivsec0.inf.ethz.ch/home/obalcells/a23-jailbreaks-obalcells/experiments/llama2_tl_bug/repro.ipynb#Y136sdnNjb2RlLXJlbW90ZQ%3D%3D?line=2'>3</a>\u001b[0m     check_similarity_with_hf_model(tl_model, hf_model, atol\u001b[39m=\u001b[39;49m\u001b[39m1\u001b[39;49m)\n",
      "\u001b[1;32m/home/obalcells/a23-jailbreaks-obalcells/experiments/llama2_tl_bug/repro.ipynb Cell 63\u001b[0m line \u001b[0;36m1\n\u001b[1;32m      <a href='vscode-notebook-cell://ssh-remote%2Bprivsec0.inf.ethz.ch/home/obalcells/a23-jailbreaks-obalcells/experiments/llama2_tl_bug/repro.ipynb#Y136sdnNjb2RlLXJlbW90ZQ%3D%3D?line=7'>8</a>\u001b[0m hf_logits \u001b[39m=\u001b[39m hf_model(tokens\u001b[39m.\u001b[39mto(devices[\u001b[39m0\u001b[39m]))\u001b[39m.\u001b[39mlogits\n\u001b[1;32m      <a href='vscode-notebook-cell://ssh-remote%2Bprivsec0.inf.ethz.ch/home/obalcells/a23-jailbreaks-obalcells/experiments/llama2_tl_bug/repro.ipynb#Y136sdnNjb2RlLXJlbW90ZQ%3D%3D?line=8'>9</a>\u001b[0m tl_logits \u001b[39m=\u001b[39m tl_model(tokens\u001b[39m.\u001b[39mto(devices[\u001b[39m1\u001b[39m]), prepend_bos\u001b[39m=\u001b[39m\u001b[39mFalse\u001b[39;00m)\n\u001b[0;32m---> <a href='vscode-notebook-cell://ssh-remote%2Bprivsec0.inf.ethz.ch/home/obalcells/a23-jailbreaks-obalcells/experiments/llama2_tl_bug/repro.ipynb#Y136sdnNjb2RlLXJlbW90ZQ%3D%3D?line=9'>10</a>\u001b[0m \u001b[39massert\u001b[39;00m torch\u001b[39m.\u001b[39mallclose(tl_logits\u001b[39m.\u001b[39mcpu(), hf_logits\u001b[39m.\u001b[39mcpu(), atol\u001b[39m=\u001b[39matol), \u001b[39m\"\u001b[39m\u001b[39mNumerical error too large\u001b[39m\u001b[39m\"\u001b[39m\n",
      "\u001b[0;31mAssertionError\u001b[0m: Numerical error too large"
     ]
    }
   ],
   "source": [
    "# before running this we've replaced ln1 and ln2 at each layer with the corresponding ln in the HF model\n",
    "with torch.no_grad():\n",
    "    check_similarity_with_hf_model(tl_model, hf_model, atol=1)"
   ]
  },
  {
   "cell_type": "code",
   "execution_count": 44,
   "metadata": {},
   "outputs": [
    {
     "name": "stdout",
     "output_type": "stream",
     "text": [
      "1e-05\n",
      "1e-05\n"
     ]
    }
   ],
   "source": [
    "print(hf_model.model.layers[10].input_layernorm.variance_epsilon)\n",
    "print(hf_model.model.layers[10].post_attention_layernorm.variance_epsilon)"
   ]
  },
  {
   "cell_type": "code",
   "execution_count": 46,
   "metadata": {},
   "outputs": [
    {
     "name": "stdout",
     "output_type": "stream",
     "text": [
      "1e-06\n",
      "1e-06\n"
     ]
    }
   ],
   "source": [
    "print(tl_model.blocks[10].ln1.eps)\n",
    "print(tl_model.blocks[10].ln2.eps)"
   ]
  },
  {
   "cell_type": "code",
   "execution_count": 54,
   "metadata": {},
   "outputs": [],
   "source": [
    "layer_norms_new_eps = []\n",
    "for layer in range(32):\n",
    "    ln1 = RMSNorm(tl_model.cfg, length=tl_model.cfg.d_model)\n",
    "    ln2 = RMSNorm(tl_model.cfg, length=tl_model.cfg.d_model)\n",
    "    ln1.w = torch.nn.Parameter(hf_model.model.layers[layer].input_layernorm.weight.clone())\n",
    "    ln2.w = torch.nn.Parameter(hf_model.model.layers[layer].post_attention_layernorm.weight.clone())\n",
    "    ln1.eps = 1e-5\n",
    "    ln2.eps = 1e-5\n",
    "    lns = [ln1, ln2]\n",
    "    layer_norms_new_eps.append(lns)"
   ]
  },
  {
   "cell_type": "code",
   "execution_count": 55,
   "metadata": {},
   "outputs": [],
   "source": [
    "for layer in range(32):\n",
    "    tl_model.blocks[layer].ln1 = layer_norms_new_eps[layer][0].to(devices[1])\n",
    "    tl_model.blocks[layer].ln2 = layer_norms_new_eps[layer][1].to(devices[1])"
   ]
  },
  {
   "cell_type": "code",
   "execution_count": 62,
   "metadata": {},
   "outputs": [],
   "source": [
    "# before running this we've replaced ln1 and ln2 at each layer with the corresponding ln in the HF model\n",
    "with torch.no_grad():\n",
    "    check_similarity_with_hf_model(tl_model, hf_model, atol=0.001)"
   ]
  },
  {
   "cell_type": "code",
   "execution_count": 61,
   "metadata": {},
   "outputs": [
    {
     "ename": "AssertionError",
     "evalue": "Numerical error too large",
     "output_type": "error",
     "traceback": [
      "\u001b[0;31m---------------------------------------------------------------------------\u001b[0m",
      "\u001b[0;31mAssertionError\u001b[0m                            Traceback (most recent call last)",
      "\u001b[1;32m/home/obalcells/a23-jailbreaks-obalcells/experiments/llama2_tl_bug/repro.ipynb Cell 68\u001b[0m line \u001b[0;36m3\n\u001b[1;32m      <a href='vscode-notebook-cell://ssh-remote%2Bprivsec0.inf.ethz.ch/home/obalcells/a23-jailbreaks-obalcells/experiments/llama2_tl_bug/repro.ipynb#Y146sdnNjb2RlLXJlbW90ZQ%3D%3D?line=0'>1</a>\u001b[0m \u001b[39m# before running this we've replaced ln1 and ln2 at each layer with the corresponding ln in the HF model\u001b[39;00m\n\u001b[1;32m      <a href='vscode-notebook-cell://ssh-remote%2Bprivsec0.inf.ethz.ch/home/obalcells/a23-jailbreaks-obalcells/experiments/llama2_tl_bug/repro.ipynb#Y146sdnNjb2RlLXJlbW90ZQ%3D%3D?line=1'>2</a>\u001b[0m \u001b[39mwith\u001b[39;00m torch\u001b[39m.\u001b[39mno_grad():\n\u001b[0;32m----> <a href='vscode-notebook-cell://ssh-remote%2Bprivsec0.inf.ethz.ch/home/obalcells/a23-jailbreaks-obalcells/experiments/llama2_tl_bug/repro.ipynb#Y146sdnNjb2RlLXJlbW90ZQ%3D%3D?line=2'>3</a>\u001b[0m     check_similarity_with_hf_model(tl_model, hf_model, atol\u001b[39m=\u001b[39;49m\u001b[39m0.00001\u001b[39;49m)\n",
      "\u001b[1;32m/home/obalcells/a23-jailbreaks-obalcells/experiments/llama2_tl_bug/repro.ipynb Cell 68\u001b[0m line \u001b[0;36m1\n\u001b[1;32m      <a href='vscode-notebook-cell://ssh-remote%2Bprivsec0.inf.ethz.ch/home/obalcells/a23-jailbreaks-obalcells/experiments/llama2_tl_bug/repro.ipynb#Y146sdnNjb2RlLXJlbW90ZQ%3D%3D?line=7'>8</a>\u001b[0m hf_logits \u001b[39m=\u001b[39m hf_model(tokens\u001b[39m.\u001b[39mto(devices[\u001b[39m0\u001b[39m]))\u001b[39m.\u001b[39mlogits\n\u001b[1;32m      <a href='vscode-notebook-cell://ssh-remote%2Bprivsec0.inf.ethz.ch/home/obalcells/a23-jailbreaks-obalcells/experiments/llama2_tl_bug/repro.ipynb#Y146sdnNjb2RlLXJlbW90ZQ%3D%3D?line=8'>9</a>\u001b[0m tl_logits \u001b[39m=\u001b[39m tl_model(tokens\u001b[39m.\u001b[39mto(devices[\u001b[39m1\u001b[39m]), prepend_bos\u001b[39m=\u001b[39m\u001b[39mFalse\u001b[39;00m)\n\u001b[0;32m---> <a href='vscode-notebook-cell://ssh-remote%2Bprivsec0.inf.ethz.ch/home/obalcells/a23-jailbreaks-obalcells/experiments/llama2_tl_bug/repro.ipynb#Y146sdnNjb2RlLXJlbW90ZQ%3D%3D?line=9'>10</a>\u001b[0m \u001b[39massert\u001b[39;00m torch\u001b[39m.\u001b[39mallclose(tl_logits\u001b[39m.\u001b[39mcpu(), hf_logits\u001b[39m.\u001b[39mcpu(), atol\u001b[39m=\u001b[39matol), \u001b[39m\"\u001b[39m\u001b[39mNumerical error too large\u001b[39m\u001b[39m\"\u001b[39m\n",
      "\u001b[0;31mAssertionError\u001b[0m: Numerical error too large"
     ]
    }
   ],
   "source": [
    "# before running this we've replaced ln1 and ln2 at each layer with the corresponding ln in the HF model\n",
    "with torch.no_grad():\n",
    "    check_similarity_with_hf_model(tl_model, hf_model, atol=0.00001)"
   ]
  },
  {
   "cell_type": "code",
   "execution_count": 78,
   "metadata": {},
   "outputs": [],
   "source": [
    "class RMSNormChangedEps(nn.Module):\n",
    "    def __init__(\n",
    "        self, cfg: Union[Dict, HookedTransformerConfig], length: Optional[int] = None\n",
    "    ):\n",
    "        \"\"\"\n",
    "        RMSNorm - LayerNorm without the centering and bias (RMS = Root Mean Square)\n",
    "\n",
    "        length (Optional[int]): If the dimension of the RMSNorm. If not provided, assumed to be d_model\n",
    "        \"\"\"\n",
    "        super().__init__()\n",
    "        if isinstance(cfg, Dict):\n",
    "            cfg = HookedTransformerConfig.from_dict(cfg)\n",
    "        self.cfg = cfg\n",
    "        self.eps = self.cfg.eps\n",
    "        if length is None:\n",
    "            self.length = self.cfg.d_model\n",
    "        else:\n",
    "            self.length = length\n",
    "\n",
    "        self.w = nn.Parameter(torch.ones(self.length, dtype=cfg.dtype))\n",
    "\n",
    "        # Adds a hook point for the normalisation scale factor\n",
    "        self.hook_scale = HookPoint()  # [batch, pos, 1]\n",
    "        self.hook_normalized = HookPoint()  # [batch, pos, length]\n",
    "\n",
    "    def forward(\n",
    "        self, x: Float[torch.Tensor, \"batch pos length\"]\n",
    "    ) -> Float[torch.Tensor, \"batch pos length\"]:\n",
    "        if self.cfg.dtype not in [torch.float32, torch.float64]:\n",
    "            x = x.to(torch.float32)\n",
    "\n",
    "        scale: Float[torch.Tensor, \"batch pos 1\"] = self.hook_scale(\n",
    "            (x.pow(2).mean(-1, keepdim=True) + self.eps).sqrt()\n",
    "        )\n",
    "        x = self.hook_normalized(x / scale).to(self.cfg.dtype)  # [batch, pos, length]\n",
    "        return x * self.w"
   ]
  },
  {
   "cell_type": "code",
   "execution_count": 79,
   "metadata": {},
   "outputs": [],
   "source": [
    "layer_norms_changed_eps = []\n",
    "\n",
    "for layer in range(32):\n",
    "    ln1 = RMSNormChangedEps(tl_model.cfg, length=tl_model.cfg.d_model)\n",
    "    ln2 = RMSNormChangedEps(tl_model.cfg, length=tl_model.cfg.d_model)\n",
    "    ln1.w = torch.nn.Parameter(hf_model.model.layers[layer].input_layernorm.weight.clone())\n",
    "    ln2.w = torch.nn.Parameter(hf_model.model.layers[layer].post_attention_layernorm.weight.clone())\n",
    "    ln1.eps = 1e-5\n",
    "    ln2.eps = 1e-5\n",
    "    lns = [ln1, ln2]\n",
    "    layer_norms_changed_eps.append(lns)"
   ]
  },
  {
   "cell_type": "code",
   "execution_count": 80,
   "metadata": {},
   "outputs": [],
   "source": [
    "for layer in range(32):\n",
    "    tl_model.blocks[layer].ln1 = layer_norms_changed_eps[layer][0].to(devices[1])\n",
    "    tl_model.blocks[layer].ln2 = layer_norms_changed_eps[layer][1].to(devices[1])"
   ]
  },
  {
   "cell_type": "code",
   "execution_count": 85,
   "metadata": {},
   "outputs": [],
   "source": [
    "# before running this we've replaced ln1 and ln2 at each layer with the corresponding ln in the HF model\n",
    "with torch.no_grad():\n",
    "    check_similarity_with_hf_model(tl_model, hf_model, atol=0.0001)"
   ]
  },
  {
   "cell_type": "code",
   "execution_count": 86,
   "metadata": {},
   "outputs": [],
   "source": [
    "for layer in range(32):\n",
    "    tl_model.blocks[layer].ln1 = layer_norms_changed_eps[layer][0].to(devices[1])\n",
    "    tl_model.blocks[layer].ln2 = layer_norms_changed_eps[layer][1].to(devices[1])\n",
    "    tl_model.blocks[layer].ln1.eps = 1e-6\n",
    "    tl_model.blocks[layer].ln2.eps = 1e-6"
   ]
  },
  {
   "cell_type": "code",
   "execution_count": 87,
   "metadata": {},
   "outputs": [
    {
     "ename": "AssertionError",
     "evalue": "Numerical error too large",
     "output_type": "error",
     "traceback": [
      "\u001b[0;31m---------------------------------------------------------------------------\u001b[0m",
      "\u001b[0;31mAssertionError\u001b[0m                            Traceback (most recent call last)",
      "\u001b[1;32m/home/obalcells/a23-jailbreaks-obalcells/experiments/llama2_tl_bug/repro.ipynb Cell 75\u001b[0m line \u001b[0;36m3\n\u001b[1;32m      <a href='vscode-notebook-cell://ssh-remote%2Bprivsec0.inf.ethz.ch/home/obalcells/a23-jailbreaks-obalcells/experiments/llama2_tl_bug/repro.ipynb#Y163sdnNjb2RlLXJlbW90ZQ%3D%3D?line=0'>1</a>\u001b[0m \u001b[39m# before running this we've replaced ln1 and ln2 at each layer with the corresponding ln in the HF model\u001b[39;00m\n\u001b[1;32m      <a href='vscode-notebook-cell://ssh-remote%2Bprivsec0.inf.ethz.ch/home/obalcells/a23-jailbreaks-obalcells/experiments/llama2_tl_bug/repro.ipynb#Y163sdnNjb2RlLXJlbW90ZQ%3D%3D?line=1'>2</a>\u001b[0m \u001b[39mwith\u001b[39;00m torch\u001b[39m.\u001b[39mno_grad():\n\u001b[0;32m----> <a href='vscode-notebook-cell://ssh-remote%2Bprivsec0.inf.ethz.ch/home/obalcells/a23-jailbreaks-obalcells/experiments/llama2_tl_bug/repro.ipynb#Y163sdnNjb2RlLXJlbW90ZQ%3D%3D?line=2'>3</a>\u001b[0m     check_similarity_with_hf_model(tl_model, hf_model, atol\u001b[39m=\u001b[39;49m\u001b[39m1\u001b[39;49m)\n",
      "\u001b[1;32m/home/obalcells/a23-jailbreaks-obalcells/experiments/llama2_tl_bug/repro.ipynb Cell 75\u001b[0m line \u001b[0;36m1\n\u001b[1;32m      <a href='vscode-notebook-cell://ssh-remote%2Bprivsec0.inf.ethz.ch/home/obalcells/a23-jailbreaks-obalcells/experiments/llama2_tl_bug/repro.ipynb#Y163sdnNjb2RlLXJlbW90ZQ%3D%3D?line=7'>8</a>\u001b[0m hf_logits \u001b[39m=\u001b[39m hf_model(tokens\u001b[39m.\u001b[39mto(devices[\u001b[39m0\u001b[39m]))\u001b[39m.\u001b[39mlogits\n\u001b[1;32m      <a href='vscode-notebook-cell://ssh-remote%2Bprivsec0.inf.ethz.ch/home/obalcells/a23-jailbreaks-obalcells/experiments/llama2_tl_bug/repro.ipynb#Y163sdnNjb2RlLXJlbW90ZQ%3D%3D?line=8'>9</a>\u001b[0m tl_logits \u001b[39m=\u001b[39m tl_model(tokens\u001b[39m.\u001b[39mto(devices[\u001b[39m1\u001b[39m]), prepend_bos\u001b[39m=\u001b[39m\u001b[39mFalse\u001b[39;00m)\n\u001b[0;32m---> <a href='vscode-notebook-cell://ssh-remote%2Bprivsec0.inf.ethz.ch/home/obalcells/a23-jailbreaks-obalcells/experiments/llama2_tl_bug/repro.ipynb#Y163sdnNjb2RlLXJlbW90ZQ%3D%3D?line=9'>10</a>\u001b[0m \u001b[39massert\u001b[39;00m torch\u001b[39m.\u001b[39mallclose(tl_logits\u001b[39m.\u001b[39mcpu(), hf_logits\u001b[39m.\u001b[39mcpu(), atol\u001b[39m=\u001b[39matol), \u001b[39m\"\u001b[39m\u001b[39mNumerical error too large\u001b[39m\u001b[39m\"\u001b[39m\n",
      "\u001b[0;31mAssertionError\u001b[0m: Numerical error too large"
     ]
    }
   ],
   "source": [
    "# before running this we've replaced ln1 and ln2 at each layer with the corresponding ln in the HF model\n",
    "with torch.no_grad():\n",
    "    check_similarity_with_hf_model(tl_model, hf_model, atol=1)"
   ]
  },
  {
   "cell_type": "markdown",
   "metadata": {},
   "source": [
    "### Change the TL config to have `eps=1e-5`"
   ]
  },
  {
   "cell_type": "code",
   "execution_count": 89,
   "metadata": {},
   "outputs": [],
   "source": [
    "del tl_model\n",
    "gc.collect()\n",
    "torch.cuda.empty_cache()"
   ]
  },
  {
   "cell_type": "code",
   "execution_count": 90,
   "metadata": {},
   "outputs": [
    {
     "data": {
      "application/vnd.jupyter.widget-view+json": {
       "model_id": "f031879081c446f39d5aeb7ed07287c0",
       "version_major": 2,
       "version_minor": 0
      },
      "text/plain": [
       "Loading checkpoint shards:   0%|          | 0/2 [00:00<?, ?it/s]"
      ]
     },
     "metadata": {},
     "output_type": "display_data"
    },
    {
     "ename": "OutOfMemoryError",
     "evalue": "CUDA out of memory. Tried to allocate 172.00 MiB. GPU 1 has a total capacty of 47.54 GiB of which 88.25 MiB is free. Including non-PyTorch memory, this process has 47.43 GiB memory in use. Of the allocated memory 47.11 GiB is allocated by PyTorch, and 20.18 MiB is reserved by PyTorch but unallocated. If reserved but unallocated memory is large try setting max_split_size_mb to avoid fragmentation.  See documentation for Memory Management and PYTORCH_CUDA_ALLOC_CONF",
     "output_type": "error",
     "traceback": [
      "\u001b[0;31m---------------------------------------------------------------------------\u001b[0m",
      "\u001b[0;31mOutOfMemoryError\u001b[0m                          Traceback (most recent call last)",
      "\u001b[1;32m/home/obalcells/a23-jailbreaks-obalcells/experiments/llama2_tl_bug/repro.ipynb Cell 78\u001b[0m line \u001b[0;36m1\n\u001b[0;32m----> <a href='vscode-notebook-cell://ssh-remote%2Bprivsec0.inf.ethz.ch/home/obalcells/a23-jailbreaks-obalcells/experiments/llama2_tl_bug/repro.ipynb#Y200sdnNjb2RlLXJlbW90ZQ%3D%3D?line=0'>1</a>\u001b[0m tl_model \u001b[39m=\u001b[39m HookedTransformer\u001b[39m.\u001b[39;49mfrom_pretrained(\n\u001b[1;32m      <a href='vscode-notebook-cell://ssh-remote%2Bprivsec0.inf.ethz.ch/home/obalcells/a23-jailbreaks-obalcells/experiments/llama2_tl_bug/repro.ipynb#Y200sdnNjb2RlLXJlbW90ZQ%3D%3D?line=1'>2</a>\u001b[0m     MODEL_NAME,\n\u001b[1;32m      <a href='vscode-notebook-cell://ssh-remote%2Bprivsec0.inf.ethz.ch/home/obalcells/a23-jailbreaks-obalcells/experiments/llama2_tl_bug/repro.ipynb#Y200sdnNjb2RlLXJlbW90ZQ%3D%3D?line=2'>3</a>\u001b[0m     hf_model\u001b[39m=\u001b[39;49mAutoModelForCausalLM\u001b[39m.\u001b[39;49mfrom_pretrained(\n\u001b[1;32m      <a href='vscode-notebook-cell://ssh-remote%2Bprivsec0.inf.ethz.ch/home/obalcells/a23-jailbreaks-obalcells/experiments/llama2_tl_bug/repro.ipynb#Y200sdnNjb2RlLXJlbW90ZQ%3D%3D?line=3'>4</a>\u001b[0m         MODEL_NAME,\n\u001b[1;32m      <a href='vscode-notebook-cell://ssh-remote%2Bprivsec0.inf.ethz.ch/home/obalcells/a23-jailbreaks-obalcells/experiments/llama2_tl_bug/repro.ipynb#Y200sdnNjb2RlLXJlbW90ZQ%3D%3D?line=4'>5</a>\u001b[0m         low_cpu_mem_usage\u001b[39m=\u001b[39;49m\u001b[39mTrue\u001b[39;49;00m,\n\u001b[1;32m      <a href='vscode-notebook-cell://ssh-remote%2Bprivsec0.inf.ethz.ch/home/obalcells/a23-jailbreaks-obalcells/experiments/llama2_tl_bug/repro.ipynb#Y200sdnNjb2RlLXJlbW90ZQ%3D%3D?line=5'>6</a>\u001b[0m         torch_dtype\u001b[39m=\u001b[39;49mtorch\u001b[39m.\u001b[39;49mfloat32,\n\u001b[1;32m      <a href='vscode-notebook-cell://ssh-remote%2Bprivsec0.inf.ethz.ch/home/obalcells/a23-jailbreaks-obalcells/experiments/llama2_tl_bug/repro.ipynb#Y200sdnNjb2RlLXJlbW90ZQ%3D%3D?line=6'>7</a>\u001b[0m     ),\n\u001b[1;32m      <a href='vscode-notebook-cell://ssh-remote%2Bprivsec0.inf.ethz.ch/home/obalcells/a23-jailbreaks-obalcells/experiments/llama2_tl_bug/repro.ipynb#Y200sdnNjb2RlLXJlbW90ZQ%3D%3D?line=7'>8</a>\u001b[0m     tokenizer\u001b[39m=\u001b[39;49mAutoTokenizer\u001b[39m.\u001b[39;49mfrom_pretrained(MODEL_NAME),\n\u001b[1;32m      <a href='vscode-notebook-cell://ssh-remote%2Bprivsec0.inf.ethz.ch/home/obalcells/a23-jailbreaks-obalcells/experiments/llama2_tl_bug/repro.ipynb#Y200sdnNjb2RlLXJlbW90ZQ%3D%3D?line=8'>9</a>\u001b[0m     device\u001b[39m=\u001b[39;49mdevices[\u001b[39m1\u001b[39;49m],\n\u001b[1;32m     <a href='vscode-notebook-cell://ssh-remote%2Bprivsec0.inf.ethz.ch/home/obalcells/a23-jailbreaks-obalcells/experiments/llama2_tl_bug/repro.ipynb#Y200sdnNjb2RlLXJlbW90ZQ%3D%3D?line=9'>10</a>\u001b[0m     n_devices\u001b[39m=\u001b[39;49m\u001b[39m1\u001b[39;49m,\n\u001b[1;32m     <a href='vscode-notebook-cell://ssh-remote%2Bprivsec0.inf.ethz.ch/home/obalcells/a23-jailbreaks-obalcells/experiments/llama2_tl_bug/repro.ipynb#Y200sdnNjb2RlLXJlbW90ZQ%3D%3D?line=10'>11</a>\u001b[0m     move_to_device\u001b[39m=\u001b[39;49m\u001b[39mTrue\u001b[39;49;00m,\n\u001b[1;32m     <a href='vscode-notebook-cell://ssh-remote%2Bprivsec0.inf.ethz.ch/home/obalcells/a23-jailbreaks-obalcells/experiments/llama2_tl_bug/repro.ipynb#Y200sdnNjb2RlLXJlbW90ZQ%3D%3D?line=11'>12</a>\u001b[0m     fold_ln\u001b[39m=\u001b[39;49m\u001b[39mFalse\u001b[39;49;00m,\n\u001b[1;32m     <a href='vscode-notebook-cell://ssh-remote%2Bprivsec0.inf.ethz.ch/home/obalcells/a23-jailbreaks-obalcells/experiments/llama2_tl_bug/repro.ipynb#Y200sdnNjb2RlLXJlbW90ZQ%3D%3D?line=12'>13</a>\u001b[0m     fold_value_biases\u001b[39m=\u001b[39;49m\u001b[39mFalse\u001b[39;49;00m,\n\u001b[1;32m     <a href='vscode-notebook-cell://ssh-remote%2Bprivsec0.inf.ethz.ch/home/obalcells/a23-jailbreaks-obalcells/experiments/llama2_tl_bug/repro.ipynb#Y200sdnNjb2RlLXJlbW90ZQ%3D%3D?line=13'>14</a>\u001b[0m     center_writing_weights\u001b[39m=\u001b[39;49m\u001b[39mFalse\u001b[39;49;00m,\n\u001b[1;32m     <a href='vscode-notebook-cell://ssh-remote%2Bprivsec0.inf.ethz.ch/home/obalcells/a23-jailbreaks-obalcells/experiments/llama2_tl_bug/repro.ipynb#Y200sdnNjb2RlLXJlbW90ZQ%3D%3D?line=14'>15</a>\u001b[0m     center_unembed\u001b[39m=\u001b[39;49m\u001b[39mFalse\u001b[39;49;00m,\n\u001b[1;32m     <a href='vscode-notebook-cell://ssh-remote%2Bprivsec0.inf.ethz.ch/home/obalcells/a23-jailbreaks-obalcells/experiments/llama2_tl_bug/repro.ipynb#Y200sdnNjb2RlLXJlbW90ZQ%3D%3D?line=15'>16</a>\u001b[0m     torch_dtype\u001b[39m=\u001b[39;49mtorch\u001b[39m.\u001b[39;49mfloat32,\n\u001b[1;32m     <a href='vscode-notebook-cell://ssh-remote%2Bprivsec0.inf.ethz.ch/home/obalcells/a23-jailbreaks-obalcells/experiments/llama2_tl_bug/repro.ipynb#Y200sdnNjb2RlLXJlbW90ZQ%3D%3D?line=16'>17</a>\u001b[0m )\n",
      "File \u001b[0;32m/local/home/obalcells/miniforge3/envs/jailbreak/lib/python3.11/site-packages/transformer_lens/HookedTransformer.py:1304\u001b[0m, in \u001b[0;36mHookedTransformer.from_pretrained\u001b[0;34m(cls, model_name, fold_ln, center_writing_weights, center_unembed, refactor_factored_attn_matrices, checkpoint_index, checkpoint_value, hf_model, device, n_devices, tokenizer, move_to_device, fold_value_biases, default_prepend_bos, default_padding_side, dtype, **from_pretrained_kwargs)\u001b[0m\n\u001b[1;32m   1294\u001b[0m model\u001b[39m.\u001b[39mload_and_process_state_dict(\n\u001b[1;32m   1295\u001b[0m     state_dict,\n\u001b[1;32m   1296\u001b[0m     fold_ln\u001b[39m=\u001b[39mfold_ln,\n\u001b[0;32m   (...)\u001b[0m\n\u001b[1;32m   1300\u001b[0m     refactor_factored_attn_matrices\u001b[39m=\u001b[39mrefactor_factored_attn_matrices,\n\u001b[1;32m   1301\u001b[0m )\n\u001b[1;32m   1303\u001b[0m \u001b[39mif\u001b[39;00m move_to_device:\n\u001b[0;32m-> 1304\u001b[0m     model\u001b[39m.\u001b[39;49mmove_model_modules_to_device()\n\u001b[1;32m   1306\u001b[0m \u001b[39mprint\u001b[39m(\u001b[39mf\u001b[39m\u001b[39m\"\u001b[39m\u001b[39mLoaded pretrained model \u001b[39m\u001b[39m{\u001b[39;00mmodel_name\u001b[39m}\u001b[39;00m\u001b[39m into HookedTransformer\u001b[39m\u001b[39m\"\u001b[39m)\n\u001b[1;32m   1308\u001b[0m \u001b[39mreturn\u001b[39;00m model\n",
      "File \u001b[0;32m/local/home/obalcells/miniforge3/envs/jailbreak/lib/python3.11/site-packages/transformer_lens/HookedTransformer.py:1065\u001b[0m, in \u001b[0;36mHookedTransformer.move_model_modules_to_device\u001b[0;34m(self)\u001b[0m\n\u001b[1;32m   1061\u001b[0m \u001b[39mself\u001b[39m\u001b[39m.\u001b[39munembed\u001b[39m.\u001b[39mto(\n\u001b[1;32m   1062\u001b[0m     devices\u001b[39m.\u001b[39mget_device_for_block_index(\u001b[39mself\u001b[39m\u001b[39m.\u001b[39mcfg\u001b[39m.\u001b[39mn_layers \u001b[39m-\u001b[39m \u001b[39m1\u001b[39m, \u001b[39mself\u001b[39m\u001b[39m.\u001b[39mcfg)\n\u001b[1;32m   1063\u001b[0m )\n\u001b[1;32m   1064\u001b[0m \u001b[39mfor\u001b[39;00m i, block \u001b[39min\u001b[39;00m \u001b[39menumerate\u001b[39m(\u001b[39mself\u001b[39m\u001b[39m.\u001b[39mblocks):\n\u001b[0;32m-> 1065\u001b[0m     block\u001b[39m.\u001b[39;49mto(devices\u001b[39m.\u001b[39;49mget_device_for_block_index(i, \u001b[39mself\u001b[39;49m\u001b[39m.\u001b[39;49mcfg))\n",
      "File \u001b[0;32m/local/home/obalcells/miniforge3/envs/jailbreak/lib/python3.11/site-packages/torch/nn/modules/module.py:1160\u001b[0m, in \u001b[0;36mModule.to\u001b[0;34m(self, *args, **kwargs)\u001b[0m\n\u001b[1;32m   1156\u001b[0m         \u001b[39mreturn\u001b[39;00m t\u001b[39m.\u001b[39mto(device, dtype \u001b[39mif\u001b[39;00m t\u001b[39m.\u001b[39mis_floating_point() \u001b[39mor\u001b[39;00m t\u001b[39m.\u001b[39mis_complex() \u001b[39melse\u001b[39;00m \u001b[39mNone\u001b[39;00m,\n\u001b[1;32m   1157\u001b[0m                     non_blocking, memory_format\u001b[39m=\u001b[39mconvert_to_format)\n\u001b[1;32m   1158\u001b[0m     \u001b[39mreturn\u001b[39;00m t\u001b[39m.\u001b[39mto(device, dtype \u001b[39mif\u001b[39;00m t\u001b[39m.\u001b[39mis_floating_point() \u001b[39mor\u001b[39;00m t\u001b[39m.\u001b[39mis_complex() \u001b[39melse\u001b[39;00m \u001b[39mNone\u001b[39;00m, non_blocking)\n\u001b[0;32m-> 1160\u001b[0m \u001b[39mreturn\u001b[39;00m \u001b[39mself\u001b[39;49m\u001b[39m.\u001b[39;49m_apply(convert)\n",
      "File \u001b[0;32m/local/home/obalcells/miniforge3/envs/jailbreak/lib/python3.11/site-packages/torch/nn/modules/module.py:810\u001b[0m, in \u001b[0;36mModule._apply\u001b[0;34m(self, fn, recurse)\u001b[0m\n\u001b[1;32m    808\u001b[0m \u001b[39mif\u001b[39;00m recurse:\n\u001b[1;32m    809\u001b[0m     \u001b[39mfor\u001b[39;00m module \u001b[39min\u001b[39;00m \u001b[39mself\u001b[39m\u001b[39m.\u001b[39mchildren():\n\u001b[0;32m--> 810\u001b[0m         module\u001b[39m.\u001b[39;49m_apply(fn)\n\u001b[1;32m    812\u001b[0m \u001b[39mdef\u001b[39;00m \u001b[39mcompute_should_use_set_data\u001b[39m(tensor, tensor_applied):\n\u001b[1;32m    813\u001b[0m     \u001b[39mif\u001b[39;00m torch\u001b[39m.\u001b[39m_has_compatible_shallow_copy_type(tensor, tensor_applied):\n\u001b[1;32m    814\u001b[0m         \u001b[39m# If the new tensor has compatible tensor type as the existing tensor,\u001b[39;00m\n\u001b[1;32m    815\u001b[0m         \u001b[39m# the current behavior is to change the tensor in-place using `.data =`,\u001b[39;00m\n\u001b[0;32m   (...)\u001b[0m\n\u001b[1;32m    820\u001b[0m         \u001b[39m# global flag to let the user control whether they want the future\u001b[39;00m\n\u001b[1;32m    821\u001b[0m         \u001b[39m# behavior of overwriting the existing tensor or not.\u001b[39;00m\n",
      "File \u001b[0;32m/local/home/obalcells/miniforge3/envs/jailbreak/lib/python3.11/site-packages/torch/nn/modules/module.py:833\u001b[0m, in \u001b[0;36mModule._apply\u001b[0;34m(self, fn, recurse)\u001b[0m\n\u001b[1;32m    829\u001b[0m \u001b[39m# Tensors stored in modules are graph leaves, and we don't want to\u001b[39;00m\n\u001b[1;32m    830\u001b[0m \u001b[39m# track autograd history of `param_applied`, so we have to use\u001b[39;00m\n\u001b[1;32m    831\u001b[0m \u001b[39m# `with torch.no_grad():`\u001b[39;00m\n\u001b[1;32m    832\u001b[0m \u001b[39mwith\u001b[39;00m torch\u001b[39m.\u001b[39mno_grad():\n\u001b[0;32m--> 833\u001b[0m     param_applied \u001b[39m=\u001b[39m fn(param)\n\u001b[1;32m    834\u001b[0m should_use_set_data \u001b[39m=\u001b[39m compute_should_use_set_data(param, param_applied)\n\u001b[1;32m    835\u001b[0m \u001b[39mif\u001b[39;00m should_use_set_data:\n",
      "File \u001b[0;32m/local/home/obalcells/miniforge3/envs/jailbreak/lib/python3.11/site-packages/torch/nn/modules/module.py:1158\u001b[0m, in \u001b[0;36mModule.to.<locals>.convert\u001b[0;34m(t)\u001b[0m\n\u001b[1;32m   1155\u001b[0m \u001b[39mif\u001b[39;00m convert_to_format \u001b[39mis\u001b[39;00m \u001b[39mnot\u001b[39;00m \u001b[39mNone\u001b[39;00m \u001b[39mand\u001b[39;00m t\u001b[39m.\u001b[39mdim() \u001b[39min\u001b[39;00m (\u001b[39m4\u001b[39m, \u001b[39m5\u001b[39m):\n\u001b[1;32m   1156\u001b[0m     \u001b[39mreturn\u001b[39;00m t\u001b[39m.\u001b[39mto(device, dtype \u001b[39mif\u001b[39;00m t\u001b[39m.\u001b[39mis_floating_point() \u001b[39mor\u001b[39;00m t\u001b[39m.\u001b[39mis_complex() \u001b[39melse\u001b[39;00m \u001b[39mNone\u001b[39;00m,\n\u001b[1;32m   1157\u001b[0m                 non_blocking, memory_format\u001b[39m=\u001b[39mconvert_to_format)\n\u001b[0;32m-> 1158\u001b[0m \u001b[39mreturn\u001b[39;00m t\u001b[39m.\u001b[39;49mto(device, dtype \u001b[39mif\u001b[39;49;00m t\u001b[39m.\u001b[39;49mis_floating_point() \u001b[39mor\u001b[39;49;00m t\u001b[39m.\u001b[39;49mis_complex() \u001b[39melse\u001b[39;49;00m \u001b[39mNone\u001b[39;49;00m, non_blocking)\n",
      "\u001b[0;31mOutOfMemoryError\u001b[0m: CUDA out of memory. Tried to allocate 172.00 MiB. GPU 1 has a total capacty of 47.54 GiB of which 88.25 MiB is free. Including non-PyTorch memory, this process has 47.43 GiB memory in use. Of the allocated memory 47.11 GiB is allocated by PyTorch, and 20.18 MiB is reserved by PyTorch but unallocated. If reserved but unallocated memory is large try setting max_split_size_mb to avoid fragmentation.  See documentation for Memory Management and PYTORCH_CUDA_ALLOC_CONF"
     ]
    }
   ],
   "source": [
    "tl_model = HookedTransformer.from_pretrained(\n",
    "    MODEL_NAME,\n",
    "    hf_model=AutoModelForCausalLM.from_pretrained(\n",
    "        MODEL_NAME,\n",
    "        low_cpu_mem_usage=True,\n",
    "        torch_dtype=torch.float32,\n",
    "    ),\n",
    "    tokenizer=AutoTokenizer.from_pretrained(MODEL_NAME),\n",
    "    device=devices[1],\n",
    "    n_devices=1,\n",
    "    move_to_device=True,\n",
    "    fold_ln=False,\n",
    "    fold_value_biases=False,\n",
    "    center_writing_weights=False,\n",
    "    center_unembed=False,\n",
    "    torch_dtype=torch.float32,\n",
    ")"
   ]
  }
 ],
 "metadata": {
  "kernelspec": {
   "display_name": "jailbreak",
   "language": "python",
   "name": "python3"
  },
  "language_info": {
   "codemirror_mode": {
    "name": "ipython",
    "version": 3
   },
   "file_extension": ".py",
   "mimetype": "text/x-python",
   "name": "python",
   "nbconvert_exporter": "python",
   "pygments_lexer": "ipython3",
   "version": "3.11.6"
  }
 },
 "nbformat": 4,
 "nbformat_minor": 2
}
